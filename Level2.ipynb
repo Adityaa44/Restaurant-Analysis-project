{
 "cells": [
  {
   "cell_type": "markdown",
   "id": "f5da9816-521f-4461-ae3a-ec30ba80cd31",
   "metadata": {},
   "source": [
    "#### Project Insight\n",
    "\n",
    "This project aims to analyze a dataset of restaurants to gain valuable insights into their ratings, cuisine combinations, geographical distribution, and the presence of restaurant chains. The primary focus areas are:"
   ]
  },
  {
   "cell_type": "markdown",
   "id": "b8008709-bbe1-4caa-bed8-f07749d850e1",
   "metadata": {},
   "source": [
    "#### 1.Restaurant Ratings: \n",
    "We will examine the distribution of aggregate ratings across restaurants to determine the most common rating range. Additionally, we will calculate the average number of votes received by restaurants to understand their popularity and reliability of ratings."
   ]
  },
  {
   "cell_type": "markdown",
   "id": "db316610-6bb2-4774-803c-5296ca8f18bf",
   "metadata": {},
   "source": [
    "#### 2.Cuisine Combination: \n",
    "By identifying the most common combinations of cuisines in the dataset, we aim to uncover any trends or preferences in cuisine pairings. We will also investigate whether certain combinations tend to receive higher ratings compared to others."
   ]
  },
  {
   "cell_type": "markdown",
   "id": "8f6e041d-d3d3-4b59-af50-41469b7adac7",
   "metadata": {},
   "source": [
    "#### 3.Geographic Analysis: \n",
    "Using longitude and latitude coordinates, we will plot the locations of restaurants on a map. This will help us identify any spatial patterns or clusters of restaurants, providing insights into their distribution across different areas."
   ]
  },
  {
   "cell_type": "markdown",
   "id": "217a5e05-784b-4089-9745-14c95612ef5d",
   "metadata": {},
   "source": [
    "#### 4.Restaurant Chains: \n",
    "We will identify any restaurant chains present in the dataset and analyze their ratings and popularity. This will help us understand how chain restaurants perform relative to independent ones."
   ]
  },
  {
   "cell_type": "markdown",
   "id": "33717ebf-fa1d-4d65-9d84-3253d573b265",
   "metadata": {},
   "source": [
    "# Level 2 Task 1"
   ]
  },
  {
   "cell_type": "markdown",
   "id": "5e285569-37ba-4c0a-be95-9738a5a9faaf",
   "metadata": {},
   "source": [
    "## Task: Restaurant Ratings"
   ]
  },
  {
   "cell_type": "markdown",
   "id": "43ade3f9-973d-4f73-b838-cff4f7032e83",
   "metadata": {},
   "source": [
    "## Analyze the distribution of aggregate ratings and determine the most common rating range."
   ]
  },
  {
   "cell_type": "markdown",
   "id": "c6feff3e-670f-4436-8338-56f9d2a4af49",
   "metadata": {},
   "source": [
    "## Calculate the average number of votes received by restaurants."
   ]
  },
  {
   "cell_type": "code",
   "execution_count": 2,
   "id": "982ebbd9-1ed5-43d2-8752-3bc88e69c6ec",
   "metadata": {},
   "outputs": [],
   "source": [
    "#import all the libraries\n",
    "import pandas as pd\n",
    "import numpy as np\n",
    "import matplotlib.pyplot as plt\n",
    "import seaborn as sns"
   ]
  },
  {
   "cell_type": "code",
   "execution_count": 3,
   "id": "5f26ef23-92f0-4599-9909-95b710f8ab3f",
   "metadata": {},
   "outputs": [],
   "source": [
    "#load dataset\n",
    "\n",
    "df = pd.read_csv('Dataset .csv')"
   ]
  },
  {
   "cell_type": "code",
   "execution_count": 4,
   "id": "18e2b607-8906-417f-9f50-3519461bbeaa",
   "metadata": {},
   "outputs": [
    {
     "data": {
      "text/html": [
       "<div>\n",
       "<style scoped>\n",
       "    .dataframe tbody tr th:only-of-type {\n",
       "        vertical-align: middle;\n",
       "    }\n",
       "\n",
       "    .dataframe tbody tr th {\n",
       "        vertical-align: top;\n",
       "    }\n",
       "\n",
       "    .dataframe thead th {\n",
       "        text-align: right;\n",
       "    }\n",
       "</style>\n",
       "<table border=\"1\" class=\"dataframe\">\n",
       "  <thead>\n",
       "    <tr style=\"text-align: right;\">\n",
       "      <th></th>\n",
       "      <th>Restaurant ID</th>\n",
       "      <th>Restaurant Name</th>\n",
       "      <th>Country Code</th>\n",
       "      <th>City</th>\n",
       "      <th>Address</th>\n",
       "      <th>Locality</th>\n",
       "      <th>Locality Verbose</th>\n",
       "      <th>Longitude</th>\n",
       "      <th>Latitude</th>\n",
       "      <th>Cuisines</th>\n",
       "      <th>...</th>\n",
       "      <th>Currency</th>\n",
       "      <th>Has Table booking</th>\n",
       "      <th>Has Online delivery</th>\n",
       "      <th>Is delivering now</th>\n",
       "      <th>Switch to order menu</th>\n",
       "      <th>Price range</th>\n",
       "      <th>Aggregate rating</th>\n",
       "      <th>Rating color</th>\n",
       "      <th>Rating text</th>\n",
       "      <th>Votes</th>\n",
       "    </tr>\n",
       "  </thead>\n",
       "  <tbody>\n",
       "    <tr>\n",
       "      <th>0</th>\n",
       "      <td>6317637</td>\n",
       "      <td>Le Petit Souffle</td>\n",
       "      <td>162</td>\n",
       "      <td>Makati City</td>\n",
       "      <td>Third Floor, Century City Mall, Kalayaan Avenu...</td>\n",
       "      <td>Century City Mall, Poblacion, Makati City</td>\n",
       "      <td>Century City Mall, Poblacion, Makati City, Mak...</td>\n",
       "      <td>121.027535</td>\n",
       "      <td>14.565443</td>\n",
       "      <td>French, Japanese, Desserts</td>\n",
       "      <td>...</td>\n",
       "      <td>Botswana Pula(P)</td>\n",
       "      <td>Yes</td>\n",
       "      <td>No</td>\n",
       "      <td>No</td>\n",
       "      <td>No</td>\n",
       "      <td>3</td>\n",
       "      <td>4.8</td>\n",
       "      <td>Dark Green</td>\n",
       "      <td>Excellent</td>\n",
       "      <td>314</td>\n",
       "    </tr>\n",
       "    <tr>\n",
       "      <th>1</th>\n",
       "      <td>6304287</td>\n",
       "      <td>Izakaya Kikufuji</td>\n",
       "      <td>162</td>\n",
       "      <td>Makati City</td>\n",
       "      <td>Little Tokyo, 2277 Chino Roces Avenue, Legaspi...</td>\n",
       "      <td>Little Tokyo, Legaspi Village, Makati City</td>\n",
       "      <td>Little Tokyo, Legaspi Village, Makati City, Ma...</td>\n",
       "      <td>121.014101</td>\n",
       "      <td>14.553708</td>\n",
       "      <td>Japanese</td>\n",
       "      <td>...</td>\n",
       "      <td>Botswana Pula(P)</td>\n",
       "      <td>Yes</td>\n",
       "      <td>No</td>\n",
       "      <td>No</td>\n",
       "      <td>No</td>\n",
       "      <td>3</td>\n",
       "      <td>4.5</td>\n",
       "      <td>Dark Green</td>\n",
       "      <td>Excellent</td>\n",
       "      <td>591</td>\n",
       "    </tr>\n",
       "    <tr>\n",
       "      <th>2</th>\n",
       "      <td>6300002</td>\n",
       "      <td>Heat - Edsa Shangri-La</td>\n",
       "      <td>162</td>\n",
       "      <td>Mandaluyong City</td>\n",
       "      <td>Edsa Shangri-La, 1 Garden Way, Ortigas, Mandal...</td>\n",
       "      <td>Edsa Shangri-La, Ortigas, Mandaluyong City</td>\n",
       "      <td>Edsa Shangri-La, Ortigas, Mandaluyong City, Ma...</td>\n",
       "      <td>121.056831</td>\n",
       "      <td>14.581404</td>\n",
       "      <td>Seafood, Asian, Filipino, Indian</td>\n",
       "      <td>...</td>\n",
       "      <td>Botswana Pula(P)</td>\n",
       "      <td>Yes</td>\n",
       "      <td>No</td>\n",
       "      <td>No</td>\n",
       "      <td>No</td>\n",
       "      <td>4</td>\n",
       "      <td>4.4</td>\n",
       "      <td>Green</td>\n",
       "      <td>Very Good</td>\n",
       "      <td>270</td>\n",
       "    </tr>\n",
       "    <tr>\n",
       "      <th>3</th>\n",
       "      <td>6318506</td>\n",
       "      <td>Ooma</td>\n",
       "      <td>162</td>\n",
       "      <td>Mandaluyong City</td>\n",
       "      <td>Third Floor, Mega Fashion Hall, SM Megamall, O...</td>\n",
       "      <td>SM Megamall, Ortigas, Mandaluyong City</td>\n",
       "      <td>SM Megamall, Ortigas, Mandaluyong City, Mandal...</td>\n",
       "      <td>121.056475</td>\n",
       "      <td>14.585318</td>\n",
       "      <td>Japanese, Sushi</td>\n",
       "      <td>...</td>\n",
       "      <td>Botswana Pula(P)</td>\n",
       "      <td>No</td>\n",
       "      <td>No</td>\n",
       "      <td>No</td>\n",
       "      <td>No</td>\n",
       "      <td>4</td>\n",
       "      <td>4.9</td>\n",
       "      <td>Dark Green</td>\n",
       "      <td>Excellent</td>\n",
       "      <td>365</td>\n",
       "    </tr>\n",
       "    <tr>\n",
       "      <th>4</th>\n",
       "      <td>6314302</td>\n",
       "      <td>Sambo Kojin</td>\n",
       "      <td>162</td>\n",
       "      <td>Mandaluyong City</td>\n",
       "      <td>Third Floor, Mega Atrium, SM Megamall, Ortigas...</td>\n",
       "      <td>SM Megamall, Ortigas, Mandaluyong City</td>\n",
       "      <td>SM Megamall, Ortigas, Mandaluyong City, Mandal...</td>\n",
       "      <td>121.057508</td>\n",
       "      <td>14.584450</td>\n",
       "      <td>Japanese, Korean</td>\n",
       "      <td>...</td>\n",
       "      <td>Botswana Pula(P)</td>\n",
       "      <td>Yes</td>\n",
       "      <td>No</td>\n",
       "      <td>No</td>\n",
       "      <td>No</td>\n",
       "      <td>4</td>\n",
       "      <td>4.8</td>\n",
       "      <td>Dark Green</td>\n",
       "      <td>Excellent</td>\n",
       "      <td>229</td>\n",
       "    </tr>\n",
       "  </tbody>\n",
       "</table>\n",
       "<p>5 rows × 21 columns</p>\n",
       "</div>"
      ],
      "text/plain": [
       "   Restaurant ID         Restaurant Name  Country Code              City  \\\n",
       "0        6317637        Le Petit Souffle           162       Makati City   \n",
       "1        6304287        Izakaya Kikufuji           162       Makati City   \n",
       "2        6300002  Heat - Edsa Shangri-La           162  Mandaluyong City   \n",
       "3        6318506                    Ooma           162  Mandaluyong City   \n",
       "4        6314302             Sambo Kojin           162  Mandaluyong City   \n",
       "\n",
       "                                             Address  \\\n",
       "0  Third Floor, Century City Mall, Kalayaan Avenu...   \n",
       "1  Little Tokyo, 2277 Chino Roces Avenue, Legaspi...   \n",
       "2  Edsa Shangri-La, 1 Garden Way, Ortigas, Mandal...   \n",
       "3  Third Floor, Mega Fashion Hall, SM Megamall, O...   \n",
       "4  Third Floor, Mega Atrium, SM Megamall, Ortigas...   \n",
       "\n",
       "                                     Locality  \\\n",
       "0   Century City Mall, Poblacion, Makati City   \n",
       "1  Little Tokyo, Legaspi Village, Makati City   \n",
       "2  Edsa Shangri-La, Ortigas, Mandaluyong City   \n",
       "3      SM Megamall, Ortigas, Mandaluyong City   \n",
       "4      SM Megamall, Ortigas, Mandaluyong City   \n",
       "\n",
       "                                    Locality Verbose   Longitude   Latitude  \\\n",
       "0  Century City Mall, Poblacion, Makati City, Mak...  121.027535  14.565443   \n",
       "1  Little Tokyo, Legaspi Village, Makati City, Ma...  121.014101  14.553708   \n",
       "2  Edsa Shangri-La, Ortigas, Mandaluyong City, Ma...  121.056831  14.581404   \n",
       "3  SM Megamall, Ortigas, Mandaluyong City, Mandal...  121.056475  14.585318   \n",
       "4  SM Megamall, Ortigas, Mandaluyong City, Mandal...  121.057508  14.584450   \n",
       "\n",
       "                           Cuisines  ...          Currency Has Table booking  \\\n",
       "0        French, Japanese, Desserts  ...  Botswana Pula(P)               Yes   \n",
       "1                          Japanese  ...  Botswana Pula(P)               Yes   \n",
       "2  Seafood, Asian, Filipino, Indian  ...  Botswana Pula(P)               Yes   \n",
       "3                   Japanese, Sushi  ...  Botswana Pula(P)                No   \n",
       "4                  Japanese, Korean  ...  Botswana Pula(P)               Yes   \n",
       "\n",
       "  Has Online delivery Is delivering now Switch to order menu Price range  \\\n",
       "0                  No                No                   No           3   \n",
       "1                  No                No                   No           3   \n",
       "2                  No                No                   No           4   \n",
       "3                  No                No                   No           4   \n",
       "4                  No                No                   No           4   \n",
       "\n",
       "   Aggregate rating  Rating color Rating text Votes  \n",
       "0               4.8    Dark Green   Excellent   314  \n",
       "1               4.5    Dark Green   Excellent   591  \n",
       "2               4.4         Green   Very Good   270  \n",
       "3               4.9    Dark Green   Excellent   365  \n",
       "4               4.8    Dark Green   Excellent   229  \n",
       "\n",
       "[5 rows x 21 columns]"
      ]
     },
     "execution_count": 4,
     "metadata": {},
     "output_type": "execute_result"
    }
   ],
   "source": [
    "df.head()"
   ]
  },
  {
   "cell_type": "code",
   "execution_count": 5,
   "id": "151ad7d5-fad9-4757-921f-e62ae3b8714e",
   "metadata": {},
   "outputs": [
    {
     "data": {
      "text/html": [
       "<div>\n",
       "<style scoped>\n",
       "    .dataframe tbody tr th:only-of-type {\n",
       "        vertical-align: middle;\n",
       "    }\n",
       "\n",
       "    .dataframe tbody tr th {\n",
       "        vertical-align: top;\n",
       "    }\n",
       "\n",
       "    .dataframe thead th {\n",
       "        text-align: right;\n",
       "    }\n",
       "</style>\n",
       "<table border=\"1\" class=\"dataframe\">\n",
       "  <thead>\n",
       "    <tr style=\"text-align: right;\">\n",
       "      <th></th>\n",
       "      <th>Restaurant ID</th>\n",
       "      <th>Country Code</th>\n",
       "      <th>Longitude</th>\n",
       "      <th>Latitude</th>\n",
       "      <th>Average Cost for two</th>\n",
       "      <th>Price range</th>\n",
       "      <th>Aggregate rating</th>\n",
       "      <th>Votes</th>\n",
       "    </tr>\n",
       "  </thead>\n",
       "  <tbody>\n",
       "    <tr>\n",
       "      <th>count</th>\n",
       "      <td>9.551000e+03</td>\n",
       "      <td>9551.000000</td>\n",
       "      <td>9551.000000</td>\n",
       "      <td>9551.000000</td>\n",
       "      <td>9551.000000</td>\n",
       "      <td>9551.000000</td>\n",
       "      <td>9551.000000</td>\n",
       "      <td>9551.000000</td>\n",
       "    </tr>\n",
       "    <tr>\n",
       "      <th>mean</th>\n",
       "      <td>9.051128e+06</td>\n",
       "      <td>18.365616</td>\n",
       "      <td>64.126574</td>\n",
       "      <td>25.854381</td>\n",
       "      <td>1199.210763</td>\n",
       "      <td>1.804837</td>\n",
       "      <td>2.666370</td>\n",
       "      <td>156.909748</td>\n",
       "    </tr>\n",
       "    <tr>\n",
       "      <th>std</th>\n",
       "      <td>8.791521e+06</td>\n",
       "      <td>56.750546</td>\n",
       "      <td>41.467058</td>\n",
       "      <td>11.007935</td>\n",
       "      <td>16121.183073</td>\n",
       "      <td>0.905609</td>\n",
       "      <td>1.516378</td>\n",
       "      <td>430.169145</td>\n",
       "    </tr>\n",
       "    <tr>\n",
       "      <th>min</th>\n",
       "      <td>5.300000e+01</td>\n",
       "      <td>1.000000</td>\n",
       "      <td>-157.948486</td>\n",
       "      <td>-41.330428</td>\n",
       "      <td>0.000000</td>\n",
       "      <td>1.000000</td>\n",
       "      <td>0.000000</td>\n",
       "      <td>0.000000</td>\n",
       "    </tr>\n",
       "    <tr>\n",
       "      <th>25%</th>\n",
       "      <td>3.019625e+05</td>\n",
       "      <td>1.000000</td>\n",
       "      <td>77.081343</td>\n",
       "      <td>28.478713</td>\n",
       "      <td>250.000000</td>\n",
       "      <td>1.000000</td>\n",
       "      <td>2.500000</td>\n",
       "      <td>5.000000</td>\n",
       "    </tr>\n",
       "    <tr>\n",
       "      <th>50%</th>\n",
       "      <td>6.004089e+06</td>\n",
       "      <td>1.000000</td>\n",
       "      <td>77.191964</td>\n",
       "      <td>28.570469</td>\n",
       "      <td>400.000000</td>\n",
       "      <td>2.000000</td>\n",
       "      <td>3.200000</td>\n",
       "      <td>31.000000</td>\n",
       "    </tr>\n",
       "    <tr>\n",
       "      <th>75%</th>\n",
       "      <td>1.835229e+07</td>\n",
       "      <td>1.000000</td>\n",
       "      <td>77.282006</td>\n",
       "      <td>28.642758</td>\n",
       "      <td>700.000000</td>\n",
       "      <td>2.000000</td>\n",
       "      <td>3.700000</td>\n",
       "      <td>131.000000</td>\n",
       "    </tr>\n",
       "    <tr>\n",
       "      <th>max</th>\n",
       "      <td>1.850065e+07</td>\n",
       "      <td>216.000000</td>\n",
       "      <td>174.832089</td>\n",
       "      <td>55.976980</td>\n",
       "      <td>800000.000000</td>\n",
       "      <td>4.000000</td>\n",
       "      <td>4.900000</td>\n",
       "      <td>10934.000000</td>\n",
       "    </tr>\n",
       "  </tbody>\n",
       "</table>\n",
       "</div>"
      ],
      "text/plain": [
       "       Restaurant ID  Country Code    Longitude     Latitude  \\\n",
       "count   9.551000e+03   9551.000000  9551.000000  9551.000000   \n",
       "mean    9.051128e+06     18.365616    64.126574    25.854381   \n",
       "std     8.791521e+06     56.750546    41.467058    11.007935   \n",
       "min     5.300000e+01      1.000000  -157.948486   -41.330428   \n",
       "25%     3.019625e+05      1.000000    77.081343    28.478713   \n",
       "50%     6.004089e+06      1.000000    77.191964    28.570469   \n",
       "75%     1.835229e+07      1.000000    77.282006    28.642758   \n",
       "max     1.850065e+07    216.000000   174.832089    55.976980   \n",
       "\n",
       "       Average Cost for two  Price range  Aggregate rating         Votes  \n",
       "count           9551.000000  9551.000000       9551.000000   9551.000000  \n",
       "mean            1199.210763     1.804837          2.666370    156.909748  \n",
       "std            16121.183073     0.905609          1.516378    430.169145  \n",
       "min                0.000000     1.000000          0.000000      0.000000  \n",
       "25%              250.000000     1.000000          2.500000      5.000000  \n",
       "50%              400.000000     2.000000          3.200000     31.000000  \n",
       "75%              700.000000     2.000000          3.700000    131.000000  \n",
       "max           800000.000000     4.000000          4.900000  10934.000000  "
      ]
     },
     "execution_count": 5,
     "metadata": {},
     "output_type": "execute_result"
    }
   ],
   "source": [
    "df.describe()"
   ]
  },
  {
   "cell_type": "code",
   "execution_count": 6,
   "id": "46b59ddd-1c1c-4b40-8ea4-fac5561234be",
   "metadata": {},
   "outputs": [
    {
     "name": "stdout",
     "output_type": "stream",
     "text": [
      "<class 'pandas.core.frame.DataFrame'>\n",
      "RangeIndex: 9551 entries, 0 to 9550\n",
      "Data columns (total 21 columns):\n",
      " #   Column                Non-Null Count  Dtype  \n",
      "---  ------                --------------  -----  \n",
      " 0   Restaurant ID         9551 non-null   int64  \n",
      " 1   Restaurant Name       9551 non-null   object \n",
      " 2   Country Code          9551 non-null   int64  \n",
      " 3   City                  9551 non-null   object \n",
      " 4   Address               9551 non-null   object \n",
      " 5   Locality              9551 non-null   object \n",
      " 6   Locality Verbose      9551 non-null   object \n",
      " 7   Longitude             9551 non-null   float64\n",
      " 8   Latitude              9551 non-null   float64\n",
      " 9   Cuisines              9542 non-null   object \n",
      " 10  Average Cost for two  9551 non-null   int64  \n",
      " 11  Currency              9551 non-null   object \n",
      " 12  Has Table booking     9551 non-null   object \n",
      " 13  Has Online delivery   9551 non-null   object \n",
      " 14  Is delivering now     9551 non-null   object \n",
      " 15  Switch to order menu  9551 non-null   object \n",
      " 16  Price range           9551 non-null   int64  \n",
      " 17  Aggregate rating      9551 non-null   float64\n",
      " 18  Rating color          9551 non-null   object \n",
      " 19  Rating text           9551 non-null   object \n",
      " 20  Votes                 9551 non-null   int64  \n",
      "dtypes: float64(3), int64(5), object(13)\n",
      "memory usage: 1.5+ MB\n"
     ]
    }
   ],
   "source": [
    "df.info()"
   ]
  },
  {
   "cell_type": "markdown",
   "id": "4404e7d8-b076-4956-b528-58cf932efbf4",
   "metadata": {},
   "source": [
    "## Analyze the distribution of aggregate ratings and determine the most common rating range."
   ]
  },
  {
   "cell_type": "code",
   "execution_count": 49,
   "id": "9b96d940-d903-45ef-ac1b-9ce1310d6bb5",
   "metadata": {},
   "outputs": [
    {
     "name": "stdout",
     "output_type": "stream",
     "text": [
      "Frequency Distribution:\n",
      "Rating\n",
      "1    4\n",
      "2    4\n",
      "3    6\n",
      "4    4\n",
      "5    2\n",
      "Name: count, dtype: int64\n"
     ]
    },
    {
     "data": {
      "image/png": "[encoded data removed]",
      "text/plain": [
       "<Figure size 1000x600 with 1 Axes>"
      ]
     },
     "metadata": {},
     "output_type": "display_data"
    }
   ],
   "source": [
    "#List of aggregate ratings\n",
    "ratings = [1, 2, 2, 3, 3, 3, 4, 4, 5, 3, 2, 1, 1, 5, 4, 4, 3, 3, 2, 1]\n",
    "\n",
    "# Create a DataFrame from the ratings list\n",
    "df = pd.DataFrame(ratings, columns=['Rating'])\n",
    "\n",
    "# Calculate the frequency of each rating\n",
    "rating_counts = df['Rating'].value_counts().sort_index()\n",
    "\n",
    "# Print the frequency distribution\n",
    "print(\"Frequency Distribution:\")\n",
    "print(rating_counts)\n",
    "\n",
    "# Plot a bar chart to visualize the distribution\n",
    "plt.figure(figsize=(10, 6))\n",
    "rating_counts.plot(kind='bar', color='darkgreen', edgecolor='black')\n",
    "plt.title('Distribution of aggregate ratings')\n",
    "plt.xlabel('Rating')\n",
    "plt.ylabel('Frequency')\n",
    "plt.xticks(rotation=0)  # Keep x-tick labels horizontal\n",
    "plt.grid(axis='y', linestyle='--', alpha=0.7)  # Grid lines for better readability\n",
    "plt.tight_layout()  # Adjust layout to fit labels\n",
    "plt.show()"
   ]
  },
  {
   "cell_type": "code",
   "execution_count": 48,
   "id": "8cafecde-c18c-4a04-ad07-0e0d88ecb84a",
   "metadata": {},
   "outputs": [
    {
     "name": "stdout",
     "output_type": "stream",
     "text": [
      "\n",
      "The most common rating is 3 with a frequency of 6.\n"
     ]
    }
   ],
   "source": [
    "# Determine the most common rating\n",
    "most_common_rating = rating_counts.idxmax()\n",
    "most_common_count = rating_counts.max()\n",
    "\n",
    "print(f\"\\nThe most common rating is {most_common_rating} with a frequency of {most_common_count}.\")"
   ]
  },
  {
   "cell_type": "markdown",
   "id": "7032a3a3-00e8-4130-96fa-383cb258edac",
   "metadata": {},
   "source": [
    "## Calculate the average number of votes received by restaurants."
   ]
  },
  {
   "cell_type": "code",
   "execution_count": 42,
   "id": "555a6801-7158-4f0a-8a1a-024f8594f7b6",
   "metadata": {},
   "outputs": [
    {
     "name": "stdout",
     "output_type": "stream",
     "text": [
      "Initial DataFrame:\n",
      "     Restaurant          Votes\n",
      "0  Restaurant A            120\n",
      "1  Restaurant B            150\n",
      "2  Restaurant C  Not Available\n",
      "3  Restaurant D            200\n",
      "\n",
      "DataFrame after conversion:\n",
      "     Restaurant  Votes\n",
      "0  Restaurant A  120.0\n",
      "1  Restaurant B  150.0\n",
      "2  Restaurant C    NaN\n",
      "3  Restaurant D  200.0\n",
      "\n",
      "The average number of votes received by restaurants is 156.67.\n"
     ]
    }
   ],
   "source": [
    "data = {\n",
    "    'Restaurant': ['Restaurant A', 'Restaurant B', 'Restaurant C', 'Restaurant D'],\n",
    "    'Votes': ['120', '150', 'Not Available', '200']\n",
    "}\n",
    "\n",
    "# Create a DataFrame from the dataset\n",
    "df = pd.DataFrame(data)\n",
    "\n",
    "# Display the first few rows of the DataFrame\n",
    "print(\"Initial DataFrame:\")\n",
    "print(df)\n",
    "\n",
    "# Convert 'Votes' column to numeric, forcing errors to NaN\n",
    "df['Votes'] = pd.to_numeric(df['Votes'], errors='coerce')\n",
    "\n",
    "# Calculate the average number of votes\n",
    "average_votes = df['Votes'].mean()\n",
    "\n",
    "# Print the DataFrame after conversion and the average votes\n",
    "print(\"\\nDataFrame after conversion:\")\n",
    "print(df)\n",
    "\n",
    "print(f\"\\nThe average number of votes received by restaurants is {average_votes:.2f}.\")"
   ]
  },
  {
   "cell_type": "markdown",
   "id": "dffe11f6-5a1a-43e7-97fc-3a6dfcdac761",
   "metadata": {},
   "source": [
    "# Level 2 Task 2"
   ]
  },
  {
   "cell_type": "markdown",
   "id": "e747e780-d446-4168-a1e0-05034b07602a",
   "metadata": {},
   "source": [
    "# Task: Cuisine Combination"
   ]
  },
  {
   "cell_type": "markdown",
   "id": "94be4523-5fa1-4f43-8c3b-f6264891e38e",
   "metadata": {},
   "source": [
    "# Identify the most common combinations ofcuisines in the dataset."
   ]
  },
  {
   "cell_type": "markdown",
   "id": "29e91d24-1f0f-47d8-9c60-3078479d2399",
   "metadata": {},
   "source": [
    "# Determine if certain cuisine combinationstend to have higher ratings."
   ]
  },
  {
   "cell_type": "code",
   "execution_count": 7,
   "id": "690f9965-c422-4276-9500-fbce56490c4c",
   "metadata": {},
   "outputs": [],
   "source": [
    "#import all the libraries\n",
    "import pandas as pd\n",
    "import numpy as np\n",
    "import matplotlib.pyplot as plt\n",
    "import seaborn as sns"
   ]
  },
  {
   "cell_type": "code",
   "execution_count": 8,
   "id": "470ef681-9f54-4a65-afbf-cd61f57416d4",
   "metadata": {},
   "outputs": [],
   "source": [
    "df = pd.read_csv('Dataset .csv')"
   ]
  },
  {
   "cell_type": "code",
   "execution_count": 9,
   "id": "9c346081-3e55-48b9-9192-0351c2a742be",
   "metadata": {},
   "outputs": [
    {
     "data": {
      "text/html": [
       "<div>\n",
       "<style scoped>\n",
       "    .dataframe tbody tr th:only-of-type {\n",
       "        vertical-align: middle;\n",
       "    }\n",
       "\n",
       "    .dataframe tbody tr th {\n",
       "        vertical-align: top;\n",
       "    }\n",
       "\n",
       "    .dataframe thead th {\n",
       "        text-align: right;\n",
       "    }\n",
       "</style>\n",
       "<table border=\"1\" class=\"dataframe\">\n",
       "  <thead>\n",
       "    <tr style=\"text-align: right;\">\n",
       "      <th></th>\n",
       "      <th>Restaurant ID</th>\n",
       "      <th>Restaurant Name</th>\n",
       "      <th>Country Code</th>\n",
       "      <th>City</th>\n",
       "      <th>Address</th>\n",
       "      <th>Locality</th>\n",
       "      <th>Locality Verbose</th>\n",
       "      <th>Longitude</th>\n",
       "      <th>Latitude</th>\n",
       "      <th>Cuisines</th>\n",
       "      <th>...</th>\n",
       "      <th>Currency</th>\n",
       "      <th>Has Table booking</th>\n",
       "      <th>Has Online delivery</th>\n",
       "      <th>Is delivering now</th>\n",
       "      <th>Switch to order menu</th>\n",
       "      <th>Price range</th>\n",
       "      <th>Aggregate rating</th>\n",
       "      <th>Rating color</th>\n",
       "      <th>Rating text</th>\n",
       "      <th>Votes</th>\n",
       "    </tr>\n",
       "  </thead>\n",
       "  <tbody>\n",
       "    <tr>\n",
       "      <th>0</th>\n",
       "      <td>6317637</td>\n",
       "      <td>Le Petit Souffle</td>\n",
       "      <td>162</td>\n",
       "      <td>Makati City</td>\n",
       "      <td>Third Floor, Century City Mall, Kalayaan Avenu...</td>\n",
       "      <td>Century City Mall, Poblacion, Makati City</td>\n",
       "      <td>Century City Mall, Poblacion, Makati City, Mak...</td>\n",
       "      <td>121.027535</td>\n",
       "      <td>14.565443</td>\n",
       "      <td>French, Japanese, Desserts</td>\n",
       "      <td>...</td>\n",
       "      <td>Botswana Pula(P)</td>\n",
       "      <td>Yes</td>\n",
       "      <td>No</td>\n",
       "      <td>No</td>\n",
       "      <td>No</td>\n",
       "      <td>3</td>\n",
       "      <td>4.8</td>\n",
       "      <td>Dark Green</td>\n",
       "      <td>Excellent</td>\n",
       "      <td>314</td>\n",
       "    </tr>\n",
       "    <tr>\n",
       "      <th>1</th>\n",
       "      <td>6304287</td>\n",
       "      <td>Izakaya Kikufuji</td>\n",
       "      <td>162</td>\n",
       "      <td>Makati City</td>\n",
       "      <td>Little Tokyo, 2277 Chino Roces Avenue, Legaspi...</td>\n",
       "      <td>Little Tokyo, Legaspi Village, Makati City</td>\n",
       "      <td>Little Tokyo, Legaspi Village, Makati City, Ma...</td>\n",
       "      <td>121.014101</td>\n",
       "      <td>14.553708</td>\n",
       "      <td>Japanese</td>\n",
       "      <td>...</td>\n",
       "      <td>Botswana Pula(P)</td>\n",
       "      <td>Yes</td>\n",
       "      <td>No</td>\n",
       "      <td>No</td>\n",
       "      <td>No</td>\n",
       "      <td>3</td>\n",
       "      <td>4.5</td>\n",
       "      <td>Dark Green</td>\n",
       "      <td>Excellent</td>\n",
       "      <td>591</td>\n",
       "    </tr>\n",
       "    <tr>\n",
       "      <th>2</th>\n",
       "      <td>6300002</td>\n",
       "      <td>Heat - Edsa Shangri-La</td>\n",
       "      <td>162</td>\n",
       "      <td>Mandaluyong City</td>\n",
       "      <td>Edsa Shangri-La, 1 Garden Way, Ortigas, Mandal...</td>\n",
       "      <td>Edsa Shangri-La, Ortigas, Mandaluyong City</td>\n",
       "      <td>Edsa Shangri-La, Ortigas, Mandaluyong City, Ma...</td>\n",
       "      <td>121.056831</td>\n",
       "      <td>14.581404</td>\n",
       "      <td>Seafood, Asian, Filipino, Indian</td>\n",
       "      <td>...</td>\n",
       "      <td>Botswana Pula(P)</td>\n",
       "      <td>Yes</td>\n",
       "      <td>No</td>\n",
       "      <td>No</td>\n",
       "      <td>No</td>\n",
       "      <td>4</td>\n",
       "      <td>4.4</td>\n",
       "      <td>Green</td>\n",
       "      <td>Very Good</td>\n",
       "      <td>270</td>\n",
       "    </tr>\n",
       "    <tr>\n",
       "      <th>3</th>\n",
       "      <td>6318506</td>\n",
       "      <td>Ooma</td>\n",
       "      <td>162</td>\n",
       "      <td>Mandaluyong City</td>\n",
       "      <td>Third Floor, Mega Fashion Hall, SM Megamall, O...</td>\n",
       "      <td>SM Megamall, Ortigas, Mandaluyong City</td>\n",
       "      <td>SM Megamall, Ortigas, Mandaluyong City, Mandal...</td>\n",
       "      <td>121.056475</td>\n",
       "      <td>14.585318</td>\n",
       "      <td>Japanese, Sushi</td>\n",
       "      <td>...</td>\n",
       "      <td>Botswana Pula(P)</td>\n",
       "      <td>No</td>\n",
       "      <td>No</td>\n",
       "      <td>No</td>\n",
       "      <td>No</td>\n",
       "      <td>4</td>\n",
       "      <td>4.9</td>\n",
       "      <td>Dark Green</td>\n",
       "      <td>Excellent</td>\n",
       "      <td>365</td>\n",
       "    </tr>\n",
       "    <tr>\n",
       "      <th>4</th>\n",
       "      <td>6314302</td>\n",
       "      <td>Sambo Kojin</td>\n",
       "      <td>162</td>\n",
       "      <td>Mandaluyong City</td>\n",
       "      <td>Third Floor, Mega Atrium, SM Megamall, Ortigas...</td>\n",
       "      <td>SM Megamall, Ortigas, Mandaluyong City</td>\n",
       "      <td>SM Megamall, Ortigas, Mandaluyong City, Mandal...</td>\n",
       "      <td>121.057508</td>\n",
       "      <td>14.584450</td>\n",
       "      <td>Japanese, Korean</td>\n",
       "      <td>...</td>\n",
       "      <td>Botswana Pula(P)</td>\n",
       "      <td>Yes</td>\n",
       "      <td>No</td>\n",
       "      <td>No</td>\n",
       "      <td>No</td>\n",
       "      <td>4</td>\n",
       "      <td>4.8</td>\n",
       "      <td>Dark Green</td>\n",
       "      <td>Excellent</td>\n",
       "      <td>229</td>\n",
       "    </tr>\n",
       "  </tbody>\n",
       "</table>\n",
       "<p>5 rows × 21 columns</p>\n",
       "</div>"
      ],
      "text/plain": [
       "   Restaurant ID         Restaurant Name  Country Code              City  \\\n",
       "0        6317637        Le Petit Souffle           162       Makati City   \n",
       "1        6304287        Izakaya Kikufuji           162       Makati City   \n",
       "2        6300002  Heat - Edsa Shangri-La           162  Mandaluyong City   \n",
       "3        6318506                    Ooma           162  Mandaluyong City   \n",
       "4        6314302             Sambo Kojin           162  Mandaluyong City   \n",
       "\n",
       "                                             Address  \\\n",
       "0  Third Floor, Century City Mall, Kalayaan Avenu...   \n",
       "1  Little Tokyo, 2277 Chino Roces Avenue, Legaspi...   \n",
       "2  Edsa Shangri-La, 1 Garden Way, Ortigas, Mandal...   \n",
       "3  Third Floor, Mega Fashion Hall, SM Megamall, O...   \n",
       "4  Third Floor, Mega Atrium, SM Megamall, Ortigas...   \n",
       "\n",
       "                                     Locality  \\\n",
       "0   Century City Mall, Poblacion, Makati City   \n",
       "1  Little Tokyo, Legaspi Village, Makati City   \n",
       "2  Edsa Shangri-La, Ortigas, Mandaluyong City   \n",
       "3      SM Megamall, Ortigas, Mandaluyong City   \n",
       "4      SM Megamall, Ortigas, Mandaluyong City   \n",
       "\n",
       "                                    Locality Verbose   Longitude   Latitude  \\\n",
       "0  Century City Mall, Poblacion, Makati City, Mak...  121.027535  14.565443   \n",
       "1  Little Tokyo, Legaspi Village, Makati City, Ma...  121.014101  14.553708   \n",
       "2  Edsa Shangri-La, Ortigas, Mandaluyong City, Ma...  121.056831  14.581404   \n",
       "3  SM Megamall, Ortigas, Mandaluyong City, Mandal...  121.056475  14.585318   \n",
       "4  SM Megamall, Ortigas, Mandaluyong City, Mandal...  121.057508  14.584450   \n",
       "\n",
       "                           Cuisines  ...          Currency Has Table booking  \\\n",
       "0        French, Japanese, Desserts  ...  Botswana Pula(P)               Yes   \n",
       "1                          Japanese  ...  Botswana Pula(P)               Yes   \n",
       "2  Seafood, Asian, Filipino, Indian  ...  Botswana Pula(P)               Yes   \n",
       "3                   Japanese, Sushi  ...  Botswana Pula(P)                No   \n",
       "4                  Japanese, Korean  ...  Botswana Pula(P)               Yes   \n",
       "\n",
       "  Has Online delivery Is delivering now Switch to order menu Price range  \\\n",
       "0                  No                No                   No           3   \n",
       "1                  No                No                   No           3   \n",
       "2                  No                No                   No           4   \n",
       "3                  No                No                   No           4   \n",
       "4                  No                No                   No           4   \n",
       "\n",
       "   Aggregate rating  Rating color Rating text Votes  \n",
       "0               4.8    Dark Green   Excellent   314  \n",
       "1               4.5    Dark Green   Excellent   591  \n",
       "2               4.4         Green   Very Good   270  \n",
       "3               4.9    Dark Green   Excellent   365  \n",
       "4               4.8    Dark Green   Excellent   229  \n",
       "\n",
       "[5 rows x 21 columns]"
      ]
     },
     "execution_count": 9,
     "metadata": {},
     "output_type": "execute_result"
    }
   ],
   "source": [
    "df.head()"
   ]
  },
  {
   "cell_type": "code",
   "execution_count": 65,
   "id": "f42654d7-17b7-4cfb-9389-897defe3da54",
   "metadata": {},
   "outputs": [
    {
     "name": "stdout",
     "output_type": "stream",
     "text": [
      "Index(['Restaurant ID', 'Restaurant Name', 'Country Code', 'City', 'Address',\n",
      "       'Locality', 'Locality Verbose', 'Longitude', 'Latitude', 'Cuisines',\n",
      "       'Average Cost for two', 'Currency', 'Has Table booking',\n",
      "       'Has Online delivery', 'Is delivering now', 'Switch to order menu',\n",
      "       'Price range', 'Aggregate rating', 'Rating color', 'Rating text',\n",
      "       'Votes'],\n",
      "      dtype='object')\n"
     ]
    }
   ],
   "source": [
    "# Verify column names\n",
    "print(df.columns)"
   ]
  },
  {
   "cell_type": "code",
   "execution_count": 10,
   "id": "493b8911-9510-4bd0-bd58-32a2e5639e93",
   "metadata": {},
   "outputs": [
    {
     "data": {
      "text/html": [
       "<div>\n",
       "<style scoped>\n",
       "    .dataframe tbody tr th:only-of-type {\n",
       "        vertical-align: middle;\n",
       "    }\n",
       "\n",
       "    .dataframe tbody tr th {\n",
       "        vertical-align: top;\n",
       "    }\n",
       "\n",
       "    .dataframe thead th {\n",
       "        text-align: right;\n",
       "    }\n",
       "</style>\n",
       "<table border=\"1\" class=\"dataframe\">\n",
       "  <thead>\n",
       "    <tr style=\"text-align: right;\">\n",
       "      <th></th>\n",
       "      <th>Restaurant ID</th>\n",
       "      <th>Restaurant Name</th>\n",
       "      <th>Country Code</th>\n",
       "      <th>City</th>\n",
       "      <th>Address</th>\n",
       "      <th>Locality</th>\n",
       "      <th>Locality Verbose</th>\n",
       "      <th>Longitude</th>\n",
       "      <th>Latitude</th>\n",
       "      <th>Cuisines</th>\n",
       "      <th>...</th>\n",
       "      <th>Currency</th>\n",
       "      <th>Has Table booking</th>\n",
       "      <th>Has Online delivery</th>\n",
       "      <th>Is delivering now</th>\n",
       "      <th>Switch to order menu</th>\n",
       "      <th>Price range</th>\n",
       "      <th>Aggregate rating</th>\n",
       "      <th>Rating color</th>\n",
       "      <th>Rating text</th>\n",
       "      <th>Votes</th>\n",
       "    </tr>\n",
       "  </thead>\n",
       "  <tbody>\n",
       "    <tr>\n",
       "      <th>0</th>\n",
       "      <td>6317637</td>\n",
       "      <td>Le Petit Souffle</td>\n",
       "      <td>162</td>\n",
       "      <td>Makati City</td>\n",
       "      <td>Third Floor, Century City Mall, Kalayaan Avenu...</td>\n",
       "      <td>Century City Mall, Poblacion, Makati City</td>\n",
       "      <td>Century City Mall, Poblacion, Makati City, Mak...</td>\n",
       "      <td>121.027535</td>\n",
       "      <td>14.565443</td>\n",
       "      <td>French, Japanese, Desserts</td>\n",
       "      <td>...</td>\n",
       "      <td>Botswana Pula(P)</td>\n",
       "      <td>Yes</td>\n",
       "      <td>No</td>\n",
       "      <td>No</td>\n",
       "      <td>No</td>\n",
       "      <td>3</td>\n",
       "      <td>4.8</td>\n",
       "      <td>Dark Green</td>\n",
       "      <td>Excellent</td>\n",
       "      <td>314</td>\n",
       "    </tr>\n",
       "    <tr>\n",
       "      <th>1</th>\n",
       "      <td>6304287</td>\n",
       "      <td>Izakaya Kikufuji</td>\n",
       "      <td>162</td>\n",
       "      <td>Makati City</td>\n",
       "      <td>Little Tokyo, 2277 Chino Roces Avenue, Legaspi...</td>\n",
       "      <td>Little Tokyo, Legaspi Village, Makati City</td>\n",
       "      <td>Little Tokyo, Legaspi Village, Makati City, Ma...</td>\n",
       "      <td>121.014101</td>\n",
       "      <td>14.553708</td>\n",
       "      <td>Japanese</td>\n",
       "      <td>...</td>\n",
       "      <td>Botswana Pula(P)</td>\n",
       "      <td>Yes</td>\n",
       "      <td>No</td>\n",
       "      <td>No</td>\n",
       "      <td>No</td>\n",
       "      <td>3</td>\n",
       "      <td>4.5</td>\n",
       "      <td>Dark Green</td>\n",
       "      <td>Excellent</td>\n",
       "      <td>591</td>\n",
       "    </tr>\n",
       "    <tr>\n",
       "      <th>2</th>\n",
       "      <td>6300002</td>\n",
       "      <td>Heat - Edsa Shangri-La</td>\n",
       "      <td>162</td>\n",
       "      <td>Mandaluyong City</td>\n",
       "      <td>Edsa Shangri-La, 1 Garden Way, Ortigas, Mandal...</td>\n",
       "      <td>Edsa Shangri-La, Ortigas, Mandaluyong City</td>\n",
       "      <td>Edsa Shangri-La, Ortigas, Mandaluyong City, Ma...</td>\n",
       "      <td>121.056831</td>\n",
       "      <td>14.581404</td>\n",
       "      <td>Seafood, Asian, Filipino, Indian</td>\n",
       "      <td>...</td>\n",
       "      <td>Botswana Pula(P)</td>\n",
       "      <td>Yes</td>\n",
       "      <td>No</td>\n",
       "      <td>No</td>\n",
       "      <td>No</td>\n",
       "      <td>4</td>\n",
       "      <td>4.4</td>\n",
       "      <td>Green</td>\n",
       "      <td>Very Good</td>\n",
       "      <td>270</td>\n",
       "    </tr>\n",
       "    <tr>\n",
       "      <th>3</th>\n",
       "      <td>6318506</td>\n",
       "      <td>Ooma</td>\n",
       "      <td>162</td>\n",
       "      <td>Mandaluyong City</td>\n",
       "      <td>Third Floor, Mega Fashion Hall, SM Megamall, O...</td>\n",
       "      <td>SM Megamall, Ortigas, Mandaluyong City</td>\n",
       "      <td>SM Megamall, Ortigas, Mandaluyong City, Mandal...</td>\n",
       "      <td>121.056475</td>\n",
       "      <td>14.585318</td>\n",
       "      <td>Japanese, Sushi</td>\n",
       "      <td>...</td>\n",
       "      <td>Botswana Pula(P)</td>\n",
       "      <td>No</td>\n",
       "      <td>No</td>\n",
       "      <td>No</td>\n",
       "      <td>No</td>\n",
       "      <td>4</td>\n",
       "      <td>4.9</td>\n",
       "      <td>Dark Green</td>\n",
       "      <td>Excellent</td>\n",
       "      <td>365</td>\n",
       "    </tr>\n",
       "    <tr>\n",
       "      <th>4</th>\n",
       "      <td>6314302</td>\n",
       "      <td>Sambo Kojin</td>\n",
       "      <td>162</td>\n",
       "      <td>Mandaluyong City</td>\n",
       "      <td>Third Floor, Mega Atrium, SM Megamall, Ortigas...</td>\n",
       "      <td>SM Megamall, Ortigas, Mandaluyong City</td>\n",
       "      <td>SM Megamall, Ortigas, Mandaluyong City, Mandal...</td>\n",
       "      <td>121.057508</td>\n",
       "      <td>14.584450</td>\n",
       "      <td>Japanese, Korean</td>\n",
       "      <td>...</td>\n",
       "      <td>Botswana Pula(P)</td>\n",
       "      <td>Yes</td>\n",
       "      <td>No</td>\n",
       "      <td>No</td>\n",
       "      <td>No</td>\n",
       "      <td>4</td>\n",
       "      <td>4.8</td>\n",
       "      <td>Dark Green</td>\n",
       "      <td>Excellent</td>\n",
       "      <td>229</td>\n",
       "    </tr>\n",
       "  </tbody>\n",
       "</table>\n",
       "<p>5 rows × 21 columns</p>\n",
       "</div>"
      ],
      "text/plain": [
       "   Restaurant ID         Restaurant Name  Country Code              City  \\\n",
       "0        6317637        Le Petit Souffle           162       Makati City   \n",
       "1        6304287        Izakaya Kikufuji           162       Makati City   \n",
       "2        6300002  Heat - Edsa Shangri-La           162  Mandaluyong City   \n",
       "3        6318506                    Ooma           162  Mandaluyong City   \n",
       "4        6314302             Sambo Kojin           162  Mandaluyong City   \n",
       "\n",
       "                                             Address  \\\n",
       "0  Third Floor, Century City Mall, Kalayaan Avenu...   \n",
       "1  Little Tokyo, 2277 Chino Roces Avenue, Legaspi...   \n",
       "2  Edsa Shangri-La, 1 Garden Way, Ortigas, Mandal...   \n",
       "3  Third Floor, Mega Fashion Hall, SM Megamall, O...   \n",
       "4  Third Floor, Mega Atrium, SM Megamall, Ortigas...   \n",
       "\n",
       "                                     Locality  \\\n",
       "0   Century City Mall, Poblacion, Makati City   \n",
       "1  Little Tokyo, Legaspi Village, Makati City   \n",
       "2  Edsa Shangri-La, Ortigas, Mandaluyong City   \n",
       "3      SM Megamall, Ortigas, Mandaluyong City   \n",
       "4      SM Megamall, Ortigas, Mandaluyong City   \n",
       "\n",
       "                                    Locality Verbose   Longitude   Latitude  \\\n",
       "0  Century City Mall, Poblacion, Makati City, Mak...  121.027535  14.565443   \n",
       "1  Little Tokyo, Legaspi Village, Makati City, Ma...  121.014101  14.553708   \n",
       "2  Edsa Shangri-La, Ortigas, Mandaluyong City, Ma...  121.056831  14.581404   \n",
       "3  SM Megamall, Ortigas, Mandaluyong City, Mandal...  121.056475  14.585318   \n",
       "4  SM Megamall, Ortigas, Mandaluyong City, Mandal...  121.057508  14.584450   \n",
       "\n",
       "                           Cuisines  ...          Currency Has Table booking  \\\n",
       "0        French, Japanese, Desserts  ...  Botswana Pula(P)               Yes   \n",
       "1                          Japanese  ...  Botswana Pula(P)               Yes   \n",
       "2  Seafood, Asian, Filipino, Indian  ...  Botswana Pula(P)               Yes   \n",
       "3                   Japanese, Sushi  ...  Botswana Pula(P)                No   \n",
       "4                  Japanese, Korean  ...  Botswana Pula(P)               Yes   \n",
       "\n",
       "  Has Online delivery Is delivering now Switch to order menu Price range  \\\n",
       "0                  No                No                   No           3   \n",
       "1                  No                No                   No           3   \n",
       "2                  No                No                   No           4   \n",
       "3                  No                No                   No           4   \n",
       "4                  No                No                   No           4   \n",
       "\n",
       "   Aggregate rating  Rating color Rating text Votes  \n",
       "0               4.8    Dark Green   Excellent   314  \n",
       "1               4.5    Dark Green   Excellent   591  \n",
       "2               4.4         Green   Very Good   270  \n",
       "3               4.9    Dark Green   Excellent   365  \n",
       "4               4.8    Dark Green   Excellent   229  \n",
       "\n",
       "[5 rows x 21 columns]"
      ]
     },
     "execution_count": 10,
     "metadata": {},
     "output_type": "execute_result"
    }
   ],
   "source": [
    "# Verify DataFrame structure\n",
    "df.head()"
   ]
  },
  {
   "cell_type": "code",
   "execution_count": 62,
   "id": "cc6d77a2-60c7-4807-9a30-cf5b7b753ff6",
   "metadata": {},
   "outputs": [
    {
     "name": "stdout",
     "output_type": "stream",
     "text": [
      "Top 10 most common cuisine combinations:\n",
      "Cuisines\n",
      "North Indian    3960\n",
      "Chinese         2735\n",
      "Fast Food       1986\n",
      "Mughlai          995\n",
      "Italian          764\n",
      "Bakery           745\n",
      "Continental      736\n",
      "Cafe             703\n",
      "Desserts         653\n",
      "South Indian     636\n",
      "Name: count, dtype: int64\n"
     ]
    }
   ],
   "source": [
    "# Process 'Cuisines' column if it exists\n",
    "if 'Cuisines' in df.columns:\n",
    "    # Split, explode, and count\n",
    "    split = df['Cuisines'].str.split(',').explode().str.strip()\n",
    "    common_cuisine_combinations = split.value_counts()\n",
    "    \n",
    "    # Print the top 10 most common cuisine combinations\n",
    "    print(\"Top 10 most common cuisine combinations:\")\n",
    "    print(common_cuisine_combinations.head(10))\n",
    "else:\n",
    "    print(\"The 'Cuisines' column is not present in the DataFrame. Please check the column names.\")"
   ]
  },
  {
   "cell_type": "code",
   "execution_count": 66,
   "id": "2dd8ce6c-c048-421c-9664-6680d44cdaa9",
   "metadata": {},
   "outputs": [
    {
     "name": "stdout",
     "output_type": "stream",
     "text": [
      "Cuisine Combination\n",
      "Sunda         4.900000\n",
      " B�_rek       4.700000\n",
      "Cajun         4.700000\n",
      "Scottish      4.700000\n",
      " Caribbean    4.666667\n",
      "Taiwanese     4.650000\n",
      "Filipino      4.616667\n",
      "Persian       4.600000\n",
      "Ramen         4.600000\n",
      "Argentine     4.500000\n",
      "Name: Aggregate Rating, dtype: float64\n"
     ]
    }
   ],
   "source": [
    "# Split the 'Cuisines' column by commas and explode the lists into individual rows\n",
    "cuisines_split = df['Cuisines'].str.split(',').explode()\n",
    "# Create a new DataFrame with 'Cuisine Combination' and 'Aggregate Rating'\n",
    "cuisine_ratings_df = pd.DataFrame({'Cuisine Combination': cuisines_split, 'Aggregate Rating': df['Aggregate rating'].repeat(cuisines_split.groupby(level=0).size())})\n",
    "# Drop any rows with missing values to ensure clean data for analysis\n",
    "cuisine_ratings_df = cuisine_ratings_df.dropna()\n",
    "\n",
    "# Calculate the average aggregate rating for each cuisine combination\n",
    "average_ratings_by_cuisine = cuisine_ratings_df.groupby('Cuisine Combination')['Aggregate Rating'].mean()\n",
    "# Retrieve the top cuisine combinations with the highest average ratings\n",
    "top_high_rated_cuisines = average_ratings_by_cuisine.nlargest(10)\n",
    "print(top_high_rated_cuisines)"
   ]
  },
  {
   "cell_type": "markdown",
   "id": "ea712ced-41bb-4dee-964d-26acab98846a",
   "metadata": {},
   "source": [
    "# Level 2 Task 3"
   ]
  },
  {
   "cell_type": "markdown",
   "id": "99d704d4-4708-42ba-b6bc-430772feb906",
   "metadata": {},
   "source": [
    "## Task: Geographic Analysis"
   ]
  },
  {
   "cell_type": "markdown",
   "id": "0ce04c02-6eee-43af-a6ee-248b87b45266",
   "metadata": {},
   "source": [
    "## Plot the locations of restaurants on a map using longitude and latitude coordinates."
   ]
  },
  {
   "cell_type": "markdown",
   "id": "a727eea6-d880-4542-bd4c-65ea419a92cb",
   "metadata": {},
   "source": [
    "## Identify any patterns or clusters of restaurants in specific areas."
   ]
  },
  {
   "cell_type": "code",
   "execution_count": 11,
   "id": "ff664abf-6869-4f1d-b1ef-f61a3420d5ae",
   "metadata": {},
   "outputs": [],
   "source": [
    "#import all the libraries\n",
    "import pandas as pd\n",
    "import numpy as np\n",
    "import matplotlib.pyplot as plt\n",
    "import seaborn as sns\n",
    "import folium\n",
    "from sklearn.cluster import KMeans\n",
    "import cartopy.crs as ccrs\n",
    "import cartopy.feature as cfeature\n",
    "import plotly.express as px"
   ]
  },
  {
   "cell_type": "code",
   "execution_count": 12,
   "id": "4690eb05-903e-4431-94e3-43603f7fdef3",
   "metadata": {},
   "outputs": [],
   "source": [
    "df = pd.read_csv('Dataset .csv')"
   ]
  },
  {
   "cell_type": "code",
   "execution_count": 13,
   "id": "0c5c5f15-3f97-4877-930b-dab0ee24758d",
   "metadata": {},
   "outputs": [
    {
     "data": {
      "text/html": [
       "<div>\n",
       "<style scoped>\n",
       "    .dataframe tbody tr th:only-of-type {\n",
       "        vertical-align: middle;\n",
       "    }\n",
       "\n",
       "    .dataframe tbody tr th {\n",
       "        vertical-align: top;\n",
       "    }\n",
       "\n",
       "    .dataframe thead th {\n",
       "        text-align: right;\n",
       "    }\n",
       "</style>\n",
       "<table border=\"1\" class=\"dataframe\">\n",
       "  <thead>\n",
       "    <tr style=\"text-align: right;\">\n",
       "      <th></th>\n",
       "      <th>Restaurant ID</th>\n",
       "      <th>Restaurant Name</th>\n",
       "      <th>Country Code</th>\n",
       "      <th>City</th>\n",
       "      <th>Address</th>\n",
       "      <th>Locality</th>\n",
       "      <th>Locality Verbose</th>\n",
       "      <th>Longitude</th>\n",
       "      <th>Latitude</th>\n",
       "      <th>Cuisines</th>\n",
       "      <th>...</th>\n",
       "      <th>Currency</th>\n",
       "      <th>Has Table booking</th>\n",
       "      <th>Has Online delivery</th>\n",
       "      <th>Is delivering now</th>\n",
       "      <th>Switch to order menu</th>\n",
       "      <th>Price range</th>\n",
       "      <th>Aggregate rating</th>\n",
       "      <th>Rating color</th>\n",
       "      <th>Rating text</th>\n",
       "      <th>Votes</th>\n",
       "    </tr>\n",
       "  </thead>\n",
       "  <tbody>\n",
       "    <tr>\n",
       "      <th>0</th>\n",
       "      <td>6317637</td>\n",
       "      <td>Le Petit Souffle</td>\n",
       "      <td>162</td>\n",
       "      <td>Makati City</td>\n",
       "      <td>Third Floor, Century City Mall, Kalayaan Avenu...</td>\n",
       "      <td>Century City Mall, Poblacion, Makati City</td>\n",
       "      <td>Century City Mall, Poblacion, Makati City, Mak...</td>\n",
       "      <td>121.027535</td>\n",
       "      <td>14.565443</td>\n",
       "      <td>French, Japanese, Desserts</td>\n",
       "      <td>...</td>\n",
       "      <td>Botswana Pula(P)</td>\n",
       "      <td>Yes</td>\n",
       "      <td>No</td>\n",
       "      <td>No</td>\n",
       "      <td>No</td>\n",
       "      <td>3</td>\n",
       "      <td>4.8</td>\n",
       "      <td>Dark Green</td>\n",
       "      <td>Excellent</td>\n",
       "      <td>314</td>\n",
       "    </tr>\n",
       "    <tr>\n",
       "      <th>1</th>\n",
       "      <td>6304287</td>\n",
       "      <td>Izakaya Kikufuji</td>\n",
       "      <td>162</td>\n",
       "      <td>Makati City</td>\n",
       "      <td>Little Tokyo, 2277 Chino Roces Avenue, Legaspi...</td>\n",
       "      <td>Little Tokyo, Legaspi Village, Makati City</td>\n",
       "      <td>Little Tokyo, Legaspi Village, Makati City, Ma...</td>\n",
       "      <td>121.014101</td>\n",
       "      <td>14.553708</td>\n",
       "      <td>Japanese</td>\n",
       "      <td>...</td>\n",
       "      <td>Botswana Pula(P)</td>\n",
       "      <td>Yes</td>\n",
       "      <td>No</td>\n",
       "      <td>No</td>\n",
       "      <td>No</td>\n",
       "      <td>3</td>\n",
       "      <td>4.5</td>\n",
       "      <td>Dark Green</td>\n",
       "      <td>Excellent</td>\n",
       "      <td>591</td>\n",
       "    </tr>\n",
       "    <tr>\n",
       "      <th>2</th>\n",
       "      <td>6300002</td>\n",
       "      <td>Heat - Edsa Shangri-La</td>\n",
       "      <td>162</td>\n",
       "      <td>Mandaluyong City</td>\n",
       "      <td>Edsa Shangri-La, 1 Garden Way, Ortigas, Mandal...</td>\n",
       "      <td>Edsa Shangri-La, Ortigas, Mandaluyong City</td>\n",
       "      <td>Edsa Shangri-La, Ortigas, Mandaluyong City, Ma...</td>\n",
       "      <td>121.056831</td>\n",
       "      <td>14.581404</td>\n",
       "      <td>Seafood, Asian, Filipino, Indian</td>\n",
       "      <td>...</td>\n",
       "      <td>Botswana Pula(P)</td>\n",
       "      <td>Yes</td>\n",
       "      <td>No</td>\n",
       "      <td>No</td>\n",
       "      <td>No</td>\n",
       "      <td>4</td>\n",
       "      <td>4.4</td>\n",
       "      <td>Green</td>\n",
       "      <td>Very Good</td>\n",
       "      <td>270</td>\n",
       "    </tr>\n",
       "    <tr>\n",
       "      <th>3</th>\n",
       "      <td>6318506</td>\n",
       "      <td>Ooma</td>\n",
       "      <td>162</td>\n",
       "      <td>Mandaluyong City</td>\n",
       "      <td>Third Floor, Mega Fashion Hall, SM Megamall, O...</td>\n",
       "      <td>SM Megamall, Ortigas, Mandaluyong City</td>\n",
       "      <td>SM Megamall, Ortigas, Mandaluyong City, Mandal...</td>\n",
       "      <td>121.056475</td>\n",
       "      <td>14.585318</td>\n",
       "      <td>Japanese, Sushi</td>\n",
       "      <td>...</td>\n",
       "      <td>Botswana Pula(P)</td>\n",
       "      <td>No</td>\n",
       "      <td>No</td>\n",
       "      <td>No</td>\n",
       "      <td>No</td>\n",
       "      <td>4</td>\n",
       "      <td>4.9</td>\n",
       "      <td>Dark Green</td>\n",
       "      <td>Excellent</td>\n",
       "      <td>365</td>\n",
       "    </tr>\n",
       "    <tr>\n",
       "      <th>4</th>\n",
       "      <td>6314302</td>\n",
       "      <td>Sambo Kojin</td>\n",
       "      <td>162</td>\n",
       "      <td>Mandaluyong City</td>\n",
       "      <td>Third Floor, Mega Atrium, SM Megamall, Ortigas...</td>\n",
       "      <td>SM Megamall, Ortigas, Mandaluyong City</td>\n",
       "      <td>SM Megamall, Ortigas, Mandaluyong City, Mandal...</td>\n",
       "      <td>121.057508</td>\n",
       "      <td>14.584450</td>\n",
       "      <td>Japanese, Korean</td>\n",
       "      <td>...</td>\n",
       "      <td>Botswana Pula(P)</td>\n",
       "      <td>Yes</td>\n",
       "      <td>No</td>\n",
       "      <td>No</td>\n",
       "      <td>No</td>\n",
       "      <td>4</td>\n",
       "      <td>4.8</td>\n",
       "      <td>Dark Green</td>\n",
       "      <td>Excellent</td>\n",
       "      <td>229</td>\n",
       "    </tr>\n",
       "  </tbody>\n",
       "</table>\n",
       "<p>5 rows × 21 columns</p>\n",
       "</div>"
      ],
      "text/plain": [
       "   Restaurant ID         Restaurant Name  Country Code              City  \\\n",
       "0        6317637        Le Petit Souffle           162       Makati City   \n",
       "1        6304287        Izakaya Kikufuji           162       Makati City   \n",
       "2        6300002  Heat - Edsa Shangri-La           162  Mandaluyong City   \n",
       "3        6318506                    Ooma           162  Mandaluyong City   \n",
       "4        6314302             Sambo Kojin           162  Mandaluyong City   \n",
       "\n",
       "                                             Address  \\\n",
       "0  Third Floor, Century City Mall, Kalayaan Avenu...   \n",
       "1  Little Tokyo, 2277 Chino Roces Avenue, Legaspi...   \n",
       "2  Edsa Shangri-La, 1 Garden Way, Ortigas, Mandal...   \n",
       "3  Third Floor, Mega Fashion Hall, SM Megamall, O...   \n",
       "4  Third Floor, Mega Atrium, SM Megamall, Ortigas...   \n",
       "\n",
       "                                     Locality  \\\n",
       "0   Century City Mall, Poblacion, Makati City   \n",
       "1  Little Tokyo, Legaspi Village, Makati City   \n",
       "2  Edsa Shangri-La, Ortigas, Mandaluyong City   \n",
       "3      SM Megamall, Ortigas, Mandaluyong City   \n",
       "4      SM Megamall, Ortigas, Mandaluyong City   \n",
       "\n",
       "                                    Locality Verbose   Longitude   Latitude  \\\n",
       "0  Century City Mall, Poblacion, Makati City, Mak...  121.027535  14.565443   \n",
       "1  Little Tokyo, Legaspi Village, Makati City, Ma...  121.014101  14.553708   \n",
       "2  Edsa Shangri-La, Ortigas, Mandaluyong City, Ma...  121.056831  14.581404   \n",
       "3  SM Megamall, Ortigas, Mandaluyong City, Mandal...  121.056475  14.585318   \n",
       "4  SM Megamall, Ortigas, Mandaluyong City, Mandal...  121.057508  14.584450   \n",
       "\n",
       "                           Cuisines  ...          Currency Has Table booking  \\\n",
       "0        French, Japanese, Desserts  ...  Botswana Pula(P)               Yes   \n",
       "1                          Japanese  ...  Botswana Pula(P)               Yes   \n",
       "2  Seafood, Asian, Filipino, Indian  ...  Botswana Pula(P)               Yes   \n",
       "3                   Japanese, Sushi  ...  Botswana Pula(P)                No   \n",
       "4                  Japanese, Korean  ...  Botswana Pula(P)               Yes   \n",
       "\n",
       "  Has Online delivery Is delivering now Switch to order menu Price range  \\\n",
       "0                  No                No                   No           3   \n",
       "1                  No                No                   No           3   \n",
       "2                  No                No                   No           4   \n",
       "3                  No                No                   No           4   \n",
       "4                  No                No                   No           4   \n",
       "\n",
       "   Aggregate rating  Rating color Rating text Votes  \n",
       "0               4.8    Dark Green   Excellent   314  \n",
       "1               4.5    Dark Green   Excellent   591  \n",
       "2               4.4         Green   Very Good   270  \n",
       "3               4.9    Dark Green   Excellent   365  \n",
       "4               4.8    Dark Green   Excellent   229  \n",
       "\n",
       "[5 rows x 21 columns]"
      ]
     },
     "execution_count": 13,
     "metadata": {},
     "output_type": "execute_result"
    }
   ],
   "source": [
    "df.head()"
   ]
  },
  {
   "cell_type": "code",
   "execution_count": 14,
   "id": "5b0727fd-2689-46c7-b069-9adb200d170f",
   "metadata": {},
   "outputs": [
    {
     "name": "stdout",
     "output_type": "stream",
     "text": [
      "<class 'pandas.core.frame.DataFrame'>\n",
      "RangeIndex: 9551 entries, 0 to 9550\n",
      "Data columns (total 21 columns):\n",
      " #   Column                Non-Null Count  Dtype  \n",
      "---  ------                --------------  -----  \n",
      " 0   Restaurant ID         9551 non-null   int64  \n",
      " 1   Restaurant Name       9551 non-null   object \n",
      " 2   Country Code          9551 non-null   int64  \n",
      " 3   City                  9551 non-null   object \n",
      " 4   Address               9551 non-null   object \n",
      " 5   Locality              9551 non-null   object \n",
      " 6   Locality Verbose      9551 non-null   object \n",
      " 7   Longitude             9551 non-null   float64\n",
      " 8   Latitude              9551 non-null   float64\n",
      " 9   Cuisines              9542 non-null   object \n",
      " 10  Average Cost for two  9551 non-null   int64  \n",
      " 11  Currency              9551 non-null   object \n",
      " 12  Has Table booking     9551 non-null   object \n",
      " 13  Has Online delivery   9551 non-null   object \n",
      " 14  Is delivering now     9551 non-null   object \n",
      " 15  Switch to order menu  9551 non-null   object \n",
      " 16  Price range           9551 non-null   int64  \n",
      " 17  Aggregate rating      9551 non-null   float64\n",
      " 18  Rating color          9551 non-null   object \n",
      " 19  Rating text           9551 non-null   object \n",
      " 20  Votes                 9551 non-null   int64  \n",
      "dtypes: float64(3), int64(5), object(13)\n",
      "memory usage: 1.5+ MB\n"
     ]
    }
   ],
   "source": [
    "df.info()"
   ]
  },
  {
   "cell_type": "markdown",
   "id": "267e9268-dedd-44bb-a9aa-ba182e255cc9",
   "metadata": {},
   "source": [
    "## Identify any patterns or clusters of restaurants in specific areas Selection deleted"
   ]
  },
  {
   "cell_type": "code",
   "execution_count": 17,
   "id": "51a68709-9ccc-4ab8-8d53-68cfaf2da5ae",
   "metadata": {},
   "outputs": [],
   "source": [
    "from folium.plugins import HeatMap"
   ]
  },
  {
   "cell_type": "code",
   "execution_count": 118,
   "id": "687a213c-0eaa-4074-ae0c-71150b9a2b88",
   "metadata": {},
   "outputs": [
    {
     "name": "stdout",
     "output_type": "stream",
     "text": [
      "Defaulting to user installation because normal site-packages is not writeable\n",
      "Requirement already satisfied: folium in c:\\users\\admin\\appdata\\roaming\\python\\python311\\site-packages (0.17.0)\n",
      "Requirement already satisfied: branca>=0.6.0 in c:\\users\\admin\\appdata\\roaming\\python\\python311\\site-packages (from folium) (0.7.2)\n",
      "Requirement already satisfied: jinja2>=2.9 in c:\\programdata\\anaconda3\\lib\\site-packages (from folium) (3.1.3)\n",
      "Requirement already satisfied: numpy in c:\\programdata\\anaconda3\\lib\\site-packages (from folium) (1.26.4)\n",
      "Requirement already satisfied: requests in c:\\programdata\\anaconda3\\lib\\site-packages (from folium) (2.31.0)\n",
      "Requirement already satisfied: xyzservices in c:\\programdata\\anaconda3\\lib\\site-packages (from folium) (2022.9.0)\n",
      "Requirement already satisfied: MarkupSafe>=2.0 in c:\\programdata\\anaconda3\\lib\\site-packages (from jinja2>=2.9->folium) (2.1.3)\n",
      "Requirement already satisfied: charset-normalizer<4,>=2 in c:\\programdata\\anaconda3\\lib\\site-packages (from requests->folium) (2.0.4)\n",
      "Requirement already satisfied: idna<4,>=2.5 in c:\\programdata\\anaconda3\\lib\\site-packages (from requests->folium) (3.4)\n",
      "Requirement already satisfied: urllib3<3,>=1.21.1 in c:\\programdata\\anaconda3\\lib\\site-packages (from requests->folium) (2.0.7)\n",
      "Requirement already satisfied: certifi>=2017.4.17 in c:\\programdata\\anaconda3\\lib\\site-packages (from requests->folium) (2024.2.2)\n",
      "Note: you may need to restart the kernel to use updated packages.\n"
     ]
    }
   ],
   "source": [
    "pip install --upgrade folium"
   ]
  },
  {
   "cell_type": "code",
   "execution_count": 138,
   "id": "ed4445df-800c-4a81-9d03-ebe867e5f0ca",
   "metadata": {},
   "outputs": [
    {
     "data": {
      "application/vnd.plotly.v1+json": {
       "config": {
        "plotlyServerURL": "https://plot.ly"
       },
       "data": [
        {
         "hovertemplate": "Latitude=%{lat}<br>Longitude=%{lon}<extra></extra>",
         "lat": [
          19.07609,
          28.613939,
          13.08268,
          22.572645,
          12.971599
         ],
         "legendgroup": "",
         "lon": [
          72.877426,
          77.20903,
          80.270718,
          88.363892,
          77.594566
         ],
         "marker": {
          "color": "#636efa"
         },
         "mode": "markers",
         "name": "",
         "showlegend": false,
         "subplot": "mapbox",
         "type": "scattermapbox"
        }
       ],
       "layout": {
        "height": 500,
        "legend": {
         "tracegroupgap": 0
        },
        "mapbox": {
         "bearing": 0,
         "center": {
          "lat": 5.017788983219944,
          "lon": 70.84808309544246
         },
         "domain": {
          "x": [
           0,
           1
          ],
          "y": [
           0,
           1
          ]
         },
         "pitch": 0,
         "style": "carto-darkmatter",
         "zoom": 1.6127096926133782
        },
        "margin": {
         "t": 60
        },
        "template": {
         "data": {
          "bar": [
           {
            "error_x": {
             "color": "#2a3f5f"
            },
            "error_y": {
             "color": "#2a3f5f"
            },
            "marker": {
             "line": {
              "color": "#E5ECF6",
              "width": 0.5
             },
             "pattern": {
              "fillmode": "overlay",
              "size": 10,
              "solidity": 0.2
             }
            },
            "type": "bar"
           }
          ],
          "barpolar": [
           {
            "marker": {
             "line": {
              "color": "#E5ECF6",
              "width": 0.5
             },
             "pattern": {
              "fillmode": "overlay",
              "size": 10,
              "solidity": 0.2
             }
            },
            "type": "barpolar"
           }
          ],
          "carpet": [
           {
            "aaxis": {
             "endlinecolor": "#2a3f5f",
             "gridcolor": "white",
             "linecolor": "white",
             "minorgridcolor": "white",
             "startlinecolor": "#2a3f5f"
            },
            "baxis": {
             "endlinecolor": "#2a3f5f",
             "gridcolor": "white",
             "linecolor": "white",
             "minorgridcolor": "white",
             "startlinecolor": "#2a3f5f"
            },
            "type": "carpet"
           }
          ],
          "choropleth": [
           {
            "colorbar": {
             "outlinewidth": 0,
             "ticks": ""
            },
            "type": "choropleth"
           }
          ],
          "contour": [
           {
            "colorbar": {
             "outlinewidth": 0,
             "ticks": ""
            },
            "colorscale": [
             [
              0,
              "#0d0887"
             ],
             [
              0.1111111111111111,
              "#46039f"
             ],
             [
              0.2222222222222222,
              "#7201a8"
             ],
             [
              0.3333333333333333,
              "#9c179e"
             ],
             [
              0.4444444444444444,
              "#bd3786"
             ],
             [
              0.5555555555555556,
              "#d8576b"
             ],
             [
              0.6666666666666666,
              "#ed7953"
             ],
             [
              0.7777777777777778,
              "#fb9f3a"
             ],
             [
              0.8888888888888888,
              "#fdca26"
             ],
             [
              1,
              "#f0f921"
             ]
            ],
            "type": "contour"
           }
          ],
          "contourcarpet": [
           {
            "colorbar": {
             "outlinewidth": 0,
             "ticks": ""
            },
            "type": "contourcarpet"
           }
          ],
          "heatmap": [
           {
            "colorbar": {
             "outlinewidth": 0,
             "ticks": ""
            },
            "colorscale": [
             [
              0,
              "#0d0887"
             ],
             [
              0.1111111111111111,
              "#46039f"
             ],
             [
              0.2222222222222222,
              "#7201a8"
             ],
             [
              0.3333333333333333,
              "#9c179e"
             ],
             [
              0.4444444444444444,
              "#bd3786"
             ],
             [
              0.5555555555555556,
              "#d8576b"
             ],
             [
              0.6666666666666666,
              "#ed7953"
             ],
             [
              0.7777777777777778,
              "#fb9f3a"
             ],
             [
              0.8888888888888888,
              "#fdca26"
             ],
             [
              1,
              "#f0f921"
             ]
            ],
            "type": "heatmap"
           }
          ],
          "heatmapgl": [
           {
            "colorbar": {
             "outlinewidth": 0,
             "ticks": ""
            },
            "colorscale": [
             [
              0,
              "#0d0887"
             ],
             [
              0.1111111111111111,
              "#46039f"
             ],
             [
              0.2222222222222222,
              "#7201a8"
             ],
             [
              0.3333333333333333,
              "#9c179e"
             ],
             [
              0.4444444444444444,
              "#bd3786"
             ],
             [
              0.5555555555555556,
              "#d8576b"
             ],
             [
              0.6666666666666666,
              "#ed7953"
             ],
             [
              0.7777777777777778,
              "#fb9f3a"
             ],
             [
              0.8888888888888888,
              "#fdca26"
             ],
             [
              1,
              "#f0f921"
             ]
            ],
            "type": "heatmapgl"
           }
          ],
          "histogram": [
           {
            "marker": {
             "pattern": {
              "fillmode": "overlay",
              "size": 10,
              "solidity": 0.2
             }
            },
            "type": "histogram"
           }
          ],
          "histogram2d": [
           {
            "colorbar": {
             "outlinewidth": 0,
             "ticks": ""
            },
            "colorscale": [
             [
              0,
              "#0d0887"
             ],
             [
              0.1111111111111111,
              "#46039f"
             ],
             [
              0.2222222222222222,
              "#7201a8"
             ],
             [
              0.3333333333333333,
              "#9c179e"
             ],
             [
              0.4444444444444444,
              "#bd3786"
             ],
             [
              0.5555555555555556,
              "#d8576b"
             ],
             [
              0.6666666666666666,
              "#ed7953"
             ],
             [
              0.7777777777777778,
              "#fb9f3a"
             ],
             [
              0.8888888888888888,
              "#fdca26"
             ],
             [
              1,
              "#f0f921"
             ]
            ],
            "type": "histogram2d"
           }
          ],
          "histogram2dcontour": [
           {
            "colorbar": {
             "outlinewidth": 0,
             "ticks": ""
            },
            "colorscale": [
             [
              0,
              "#0d0887"
             ],
             [
              0.1111111111111111,
              "#46039f"
             ],
             [
              0.2222222222222222,
              "#7201a8"
             ],
             [
              0.3333333333333333,
              "#9c179e"
             ],
             [
              0.4444444444444444,
              "#bd3786"
             ],
             [
              0.5555555555555556,
              "#d8576b"
             ],
             [
              0.6666666666666666,
              "#ed7953"
             ],
             [
              0.7777777777777778,
              "#fb9f3a"
             ],
             [
              0.8888888888888888,
              "#fdca26"
             ],
             [
              1,
              "#f0f921"
             ]
            ],
            "type": "histogram2dcontour"
           }
          ],
          "mesh3d": [
           {
            "colorbar": {
             "outlinewidth": 0,
             "ticks": ""
            },
            "type": "mesh3d"
           }
          ],
          "parcoords": [
           {
            "line": {
             "colorbar": {
              "outlinewidth": 0,
              "ticks": ""
             }
            },
            "type": "parcoords"
           }
          ],
          "pie": [
           {
            "automargin": true,
            "type": "pie"
           }
          ],
          "scatter": [
           {
            "fillpattern": {
             "fillmode": "overlay",
             "size": 10,
             "solidity": 0.2
            },
            "type": "scatter"
           }
          ],
          "scatter3d": [
           {
            "line": {
             "colorbar": {
              "outlinewidth": 0,
              "ticks": ""
             }
            },
            "marker": {
             "colorbar": {
              "outlinewidth": 0,
              "ticks": ""
             }
            },
            "type": "scatter3d"
           }
          ],
          "scattercarpet": [
           {
            "marker": {
             "colorbar": {
              "outlinewidth": 0,
              "ticks": ""
             }
            },
            "type": "scattercarpet"
           }
          ],
          "scattergeo": [
           {
            "marker": {
             "colorbar": {
              "outlinewidth": 0,
              "ticks": ""
             }
            },
            "type": "scattergeo"
           }
          ],
          "scattergl": [
           {
            "marker": {
             "colorbar": {
              "outlinewidth": 0,
              "ticks": ""
             }
            },
            "type": "scattergl"
           }
          ],
          "scattermapbox": [
           {
            "marker": {
             "colorbar": {
              "outlinewidth": 0,
              "ticks": ""
             }
            },
            "type": "scattermapbox"
           }
          ],
          "scatterpolar": [
           {
            "marker": {
             "colorbar": {
              "outlinewidth": 0,
              "ticks": ""
             }
            },
            "type": "scatterpolar"
           }
          ],
          "scatterpolargl": [
           {
            "marker": {
             "colorbar": {
              "outlinewidth": 0,
              "ticks": ""
             }
            },
            "type": "scatterpolargl"
           }
          ],
          "scatterternary": [
           {
            "marker": {
             "colorbar": {
              "outlinewidth": 0,
              "ticks": ""
             }
            },
            "type": "scatterternary"
           }
          ],
          "surface": [
           {
            "colorbar": {
             "outlinewidth": 0,
             "ticks": ""
            },
            "colorscale": [
             [
              0,
              "#0d0887"
             ],
             [
              0.1111111111111111,
              "#46039f"
             ],
             [
              0.2222222222222222,
              "#7201a8"
             ],
             [
              0.3333333333333333,
              "#9c179e"
             ],
             [
              0.4444444444444444,
              "#bd3786"
             ],
             [
              0.5555555555555556,
              "#d8576b"
             ],
             [
              0.6666666666666666,
              "#ed7953"
             ],
             [
              0.7777777777777778,
              "#fb9f3a"
             ],
             [
              0.8888888888888888,
              "#fdca26"
             ],
             [
              1,
              "#f0f921"
             ]
            ],
            "type": "surface"
           }
          ],
          "table": [
           {
            "cells": {
             "fill": {
              "color": "#EBF0F8"
             },
             "line": {
              "color": "white"
             }
            },
            "header": {
             "fill": {
              "color": "#C8D4E3"
             },
             "line": {
              "color": "white"
             }
            },
            "type": "table"
           }
          ]
         },
         "layout": {
          "annotationdefaults": {
           "arrowcolor": "#2a3f5f",
           "arrowhead": 0,
           "arrowwidth": 1
          },
          "autotypenumbers": "strict",
          "coloraxis": {
           "colorbar": {
            "outlinewidth": 0,
            "ticks": ""
           }
          },
          "colorscale": {
           "diverging": [
            [
             0,
             "#8e0152"
            ],
            [
             0.1,
             "#c51b7d"
            ],
            [
             0.2,
             "#de77ae"
            ],
            [
             0.3,
             "#f1b6da"
            ],
            [
             0.4,
             "#fde0ef"
            ],
            [
             0.5,
             "#f7f7f7"
            ],
            [
             0.6,
             "#e6f5d0"
            ],
            [
             0.7,
             "#b8e186"
            ],
            [
             0.8,
             "#7fbc41"
            ],
            [
             0.9,
             "#4d9221"
            ],
            [
             1,
             "#276419"
            ]
           ],
           "sequential": [
            [
             0,
             "#0d0887"
            ],
            [
             0.1111111111111111,
             "#46039f"
            ],
            [
             0.2222222222222222,
             "#7201a8"
            ],
            [
             0.3333333333333333,
             "#9c179e"
            ],
            [
             0.4444444444444444,
             "#bd3786"
            ],
            [
             0.5555555555555556,
             "#d8576b"
            ],
            [
             0.6666666666666666,
             "#ed7953"
            ],
            [
             0.7777777777777778,
             "#fb9f3a"
            ],
            [
             0.8888888888888888,
             "#fdca26"
            ],
            [
             1,
             "#f0f921"
            ]
           ],
           "sequentialminus": [
            [
             0,
             "#0d0887"
            ],
            [
             0.1111111111111111,
             "#46039f"
            ],
            [
             0.2222222222222222,
             "#7201a8"
            ],
            [
             0.3333333333333333,
             "#9c179e"
            ],
            [
             0.4444444444444444,
             "#bd3786"
            ],
            [
             0.5555555555555556,
             "#d8576b"
            ],
            [
             0.6666666666666666,
             "#ed7953"
            ],
            [
             0.7777777777777778,
             "#fb9f3a"
            ],
            [
             0.8888888888888888,
             "#fdca26"
            ],
            [
             1,
             "#f0f921"
            ]
           ]
          },
          "colorway": [
           "#636efa",
           "#EF553B",
           "#00cc96",
           "#ab63fa",
           "#FFA15A",
           "#19d3f3",
           "#FF6692",
           "#B6E880",
           "#FF97FF",
           "#FECB52"
          ],
          "font": {
           "color": "#2a3f5f"
          },
          "geo": {
           "bgcolor": "white",
           "lakecolor": "white",
           "landcolor": "#E5ECF6",
           "showlakes": true,
           "showland": true,
           "subunitcolor": "white"
          },
          "hoverlabel": {
           "align": "left"
          },
          "hovermode": "closest",
          "mapbox": {
           "style": "light"
          },
          "paper_bgcolor": "white",
          "plot_bgcolor": "#E5ECF6",
          "polar": {
           "angularaxis": {
            "gridcolor": "white",
            "linecolor": "white",
            "ticks": ""
           },
           "bgcolor": "#E5ECF6",
           "radialaxis": {
            "gridcolor": "white",
            "linecolor": "white",
            "ticks": ""
           }
          },
          "scene": {
           "xaxis": {
            "backgroundcolor": "#E5ECF6",
            "gridcolor": "white",
            "gridwidth": 2,
            "linecolor": "white",
            "showbackground": true,
            "ticks": "",
            "zerolinecolor": "white"
           },
           "yaxis": {
            "backgroundcolor": "#E5ECF6",
            "gridcolor": "white",
            "gridwidth": 2,
            "linecolor": "white",
            "showbackground": true,
            "ticks": "",
            "zerolinecolor": "white"
           },
           "zaxis": {
            "backgroundcolor": "#E5ECF6",
            "gridcolor": "white",
            "gridwidth": 2,
            "linecolor": "white",
            "showbackground": true,
            "ticks": "",
            "zerolinecolor": "white"
           }
          },
          "shapedefaults": {
           "line": {
            "color": "#2a3f5f"
           }
          },
          "ternary": {
           "aaxis": {
            "gridcolor": "white",
            "linecolor": "white",
            "ticks": ""
           },
           "baxis": {
            "gridcolor": "white",
            "linecolor": "white",
            "ticks": ""
           },
           "bgcolor": "#E5ECF6",
           "caxis": {
            "gridcolor": "white",
            "linecolor": "white",
            "ticks": ""
           }
          },
          "title": {
           "x": 0.05
          },
          "xaxis": {
           "automargin": true,
           "gridcolor": "white",
           "linecolor": "white",
           "ticks": "",
           "title": {
            "standoff": 15
           },
           "zerolinecolor": "white",
           "zerolinewidth": 2
          },
          "yaxis": {
           "automargin": true,
           "gridcolor": "white",
           "linecolor": "white",
           "ticks": "",
           "title": {
            "standoff": 15
           },
           "zerolinecolor": "white",
           "zerolinewidth": 2
          }
         }
        },
        "title": {
         "text": "Location of the Restaurants",
         "x": 0.5
        },
        "width": 800
       }
      },
      "image/png": "[encoded data removed]",
      "text/html": [
       "<div>                            <div id=\"6d9fcff0-7fa4-4af6-9360-796318391842\" class=\"plotly-graph-div\" style=\"height:500px; width:800px;\"></div>            <script type=\"text/javascript\">                require([\"plotly\"], function(Plotly) {                    window.PLOTLYENV=window.PLOTLYENV || {};                                    if (document.getElementById(\"6d9fcff0-7fa4-4af6-9360-796318391842\")) {                    Plotly.newPlot(                        \"6d9fcff0-7fa4-4af6-9360-796318391842\",                        [{\"hovertemplate\":\"Latitude=%{lat}<br>Longitude=%{lon}<extra></extra>\",\"lat\":[19.07609,28.613939,13.08268,22.572645,12.971599],\"legendgroup\":\"\",\"lon\":[72.877426,77.20903,80.270718,88.363892,77.594566],\"marker\":{\"color\":\"#636efa\"},\"mode\":\"markers\",\"name\":\"\",\"showlegend\":false,\"subplot\":\"mapbox\",\"type\":\"scattermapbox\"}],                        {\"template\":{\"data\":{\"histogram2dcontour\":[{\"type\":\"histogram2dcontour\",\"colorbar\":{\"outlinewidth\":0,\"ticks\":\"\"},\"colorscale\":[[0.0,\"#0d0887\"],[0.1111111111111111,\"#46039f\"],[0.2222222222222222,\"#7201a8\"],[0.3333333333333333,\"#9c179e\"],[0.4444444444444444,\"#bd3786\"],[0.5555555555555556,\"#d8576b\"],[0.6666666666666666,\"#ed7953\"],[0.7777777777777778,\"#fb9f3a\"],[0.8888888888888888,\"#fdca26\"],[1.0,\"#f0f921\"]]}],\"choropleth\":[{\"type\":\"choropleth\",\"colorbar\":{\"outlinewidth\":0,\"ticks\":\"\"}}],\"histogram2d\":[{\"type\":\"histogram2d\",\"colorbar\":{\"outlinewidth\":0,\"ticks\":\"\"},\"colorscale\":[[0.0,\"#0d0887\"],[0.1111111111111111,\"#46039f\"],[0.2222222222222222,\"#7201a8\"],[0.3333333333333333,\"#9c179e\"],[0.4444444444444444,\"#bd3786\"],[0.5555555555555556,\"#d8576b\"],[0.6666666666666666,\"#ed7953\"],[0.7777777777777778,\"#fb9f3a\"],[0.8888888888888888,\"#fdca26\"],[1.0,\"#f0f921\"]]}],\"heatmap\":[{\"type\":\"heatmap\",\"colorbar\":{\"outlinewidth\":0,\"ticks\":\"\"},\"colorscale\":[[0.0,\"#0d0887\"],[0.1111111111111111,\"#46039f\"],[0.2222222222222222,\"#7201a8\"],[0.3333333333333333,\"#9c179e\"],[0.4444444444444444,\"#bd3786\"],[0.5555555555555556,\"#d8576b\"],[0.6666666666666666,\"#ed7953\"],[0.7777777777777778,\"#fb9f3a\"],[0.8888888888888888,\"#fdca26\"],[1.0,\"#f0f921\"]]}],\"heatmapgl\":[{\"type\":\"heatmapgl\",\"colorbar\":{\"outlinewidth\":0,\"ticks\":\"\"},\"colorscale\":[[0.0,\"#0d0887\"],[0.1111111111111111,\"#46039f\"],[0.2222222222222222,\"#7201a8\"],[0.3333333333333333,\"#9c179e\"],[0.4444444444444444,\"#bd3786\"],[0.5555555555555556,\"#d8576b\"],[0.6666666666666666,\"#ed7953\"],[0.7777777777777778,\"#fb9f3a\"],[0.8888888888888888,\"#fdca26\"],[1.0,\"#f0f921\"]]}],\"contourcarpet\":[{\"type\":\"contourcarpet\",\"colorbar\":{\"outlinewidth\":0,\"ticks\":\"\"}}],\"contour\":[{\"type\":\"contour\",\"colorbar\":{\"outlinewidth\":0,\"ticks\":\"\"},\"colorscale\":[[0.0,\"#0d0887\"],[0.1111111111111111,\"#46039f\"],[0.2222222222222222,\"#7201a8\"],[0.3333333333333333,\"#9c179e\"],[0.4444444444444444,\"#bd3786\"],[0.5555555555555556,\"#d8576b\"],[0.6666666666666666,\"#ed7953\"],[0.7777777777777778,\"#fb9f3a\"],[0.8888888888888888,\"#fdca26\"],[1.0,\"#f0f921\"]]}],\"surface\":[{\"type\":\"surface\",\"colorbar\":{\"outlinewidth\":0,\"ticks\":\"\"},\"colorscale\":[[0.0,\"#0d0887\"],[0.1111111111111111,\"#46039f\"],[0.2222222222222222,\"#7201a8\"],[0.3333333333333333,\"#9c179e\"],[0.4444444444444444,\"#bd3786\"],[0.5555555555555556,\"#d8576b\"],[0.6666666666666666,\"#ed7953\"],[0.7777777777777778,\"#fb9f3a\"],[0.8888888888888888,\"#fdca26\"],[1.0,\"#f0f921\"]]}],\"mesh3d\":[{\"type\":\"mesh3d\",\"colorbar\":{\"outlinewidth\":0,\"ticks\":\"\"}}],\"scatter\":[{\"fillpattern\":{\"fillmode\":\"overlay\",\"size\":10,\"solidity\":0.2},\"type\":\"scatter\"}],\"parcoords\":[{\"type\":\"parcoords\",\"line\":{\"colorbar\":{\"outlinewidth\":0,\"ticks\":\"\"}}}],\"scatterpolargl\":[{\"type\":\"scatterpolargl\",\"marker\":{\"colorbar\":{\"outlinewidth\":0,\"ticks\":\"\"}}}],\"bar\":[{\"error_x\":{\"color\":\"#2a3f5f\"},\"error_y\":{\"color\":\"#2a3f5f\"},\"marker\":{\"line\":{\"color\":\"#E5ECF6\",\"width\":0.5},\"pattern\":{\"fillmode\":\"overlay\",\"size\":10,\"solidity\":0.2}},\"type\":\"bar\"}],\"scattergeo\":[{\"type\":\"scattergeo\",\"marker\":{\"colorbar\":{\"outlinewidth\":0,\"ticks\":\"\"}}}],\"scatterpolar\":[{\"type\":\"scatterpolar\",\"marker\":{\"colorbar\":{\"outlinewidth\":0,\"ticks\":\"\"}}}],\"histogram\":[{\"marker\":{\"pattern\":{\"fillmode\":\"overlay\",\"size\":10,\"solidity\":0.2}},\"type\":\"histogram\"}],\"scattergl\":[{\"type\":\"scattergl\",\"marker\":{\"colorbar\":{\"outlinewidth\":0,\"ticks\":\"\"}}}],\"scatter3d\":[{\"type\":\"scatter3d\",\"line\":{\"colorbar\":{\"outlinewidth\":0,\"ticks\":\"\"}},\"marker\":{\"colorbar\":{\"outlinewidth\":0,\"ticks\":\"\"}}}],\"scattermapbox\":[{\"type\":\"scattermapbox\",\"marker\":{\"colorbar\":{\"outlinewidth\":0,\"ticks\":\"\"}}}],\"scatterternary\":[{\"type\":\"scatterternary\",\"marker\":{\"colorbar\":{\"outlinewidth\":0,\"ticks\":\"\"}}}],\"scattercarpet\":[{\"type\":\"scattercarpet\",\"marker\":{\"colorbar\":{\"outlinewidth\":0,\"ticks\":\"\"}}}],\"carpet\":[{\"aaxis\":{\"endlinecolor\":\"#2a3f5f\",\"gridcolor\":\"white\",\"linecolor\":\"white\",\"minorgridcolor\":\"white\",\"startlinecolor\":\"#2a3f5f\"},\"baxis\":{\"endlinecolor\":\"#2a3f5f\",\"gridcolor\":\"white\",\"linecolor\":\"white\",\"minorgridcolor\":\"white\",\"startlinecolor\":\"#2a3f5f\"},\"type\":\"carpet\"}],\"table\":[{\"cells\":{\"fill\":{\"color\":\"#EBF0F8\"},\"line\":{\"color\":\"white\"}},\"header\":{\"fill\":{\"color\":\"#C8D4E3\"},\"line\":{\"color\":\"white\"}},\"type\":\"table\"}],\"barpolar\":[{\"marker\":{\"line\":{\"color\":\"#E5ECF6\",\"width\":0.5},\"pattern\":{\"fillmode\":\"overlay\",\"size\":10,\"solidity\":0.2}},\"type\":\"barpolar\"}],\"pie\":[{\"automargin\":true,\"type\":\"pie\"}]},\"layout\":{\"autotypenumbers\":\"strict\",\"colorway\":[\"#636efa\",\"#EF553B\",\"#00cc96\",\"#ab63fa\",\"#FFA15A\",\"#19d3f3\",\"#FF6692\",\"#B6E880\",\"#FF97FF\",\"#FECB52\"],\"font\":{\"color\":\"#2a3f5f\"},\"hovermode\":\"closest\",\"hoverlabel\":{\"align\":\"left\"},\"paper_bgcolor\":\"white\",\"plot_bgcolor\":\"#E5ECF6\",\"polar\":{\"bgcolor\":\"#E5ECF6\",\"angularaxis\":{\"gridcolor\":\"white\",\"linecolor\":\"white\",\"ticks\":\"\"},\"radialaxis\":{\"gridcolor\":\"white\",\"linecolor\":\"white\",\"ticks\":\"\"}},\"ternary\":{\"bgcolor\":\"#E5ECF6\",\"aaxis\":{\"gridcolor\":\"white\",\"linecolor\":\"white\",\"ticks\":\"\"},\"baxis\":{\"gridcolor\":\"white\",\"linecolor\":\"white\",\"ticks\":\"\"},\"caxis\":{\"gridcolor\":\"white\",\"linecolor\":\"white\",\"ticks\":\"\"}},\"coloraxis\":{\"colorbar\":{\"outlinewidth\":0,\"ticks\":\"\"}},\"colorscale\":{\"sequential\":[[0.0,\"#0d0887\"],[0.1111111111111111,\"#46039f\"],[0.2222222222222222,\"#7201a8\"],[0.3333333333333333,\"#9c179e\"],[0.4444444444444444,\"#bd3786\"],[0.5555555555555556,\"#d8576b\"],[0.6666666666666666,\"#ed7953\"],[0.7777777777777778,\"#fb9f3a\"],[0.8888888888888888,\"#fdca26\"],[1.0,\"#f0f921\"]],\"sequentialminus\":[[0.0,\"#0d0887\"],[0.1111111111111111,\"#46039f\"],[0.2222222222222222,\"#7201a8\"],[0.3333333333333333,\"#9c179e\"],[0.4444444444444444,\"#bd3786\"],[0.5555555555555556,\"#d8576b\"],[0.6666666666666666,\"#ed7953\"],[0.7777777777777778,\"#fb9f3a\"],[0.8888888888888888,\"#fdca26\"],[1.0,\"#f0f921\"]],\"diverging\":[[0,\"#8e0152\"],[0.1,\"#c51b7d\"],[0.2,\"#de77ae\"],[0.3,\"#f1b6da\"],[0.4,\"#fde0ef\"],[0.5,\"#f7f7f7\"],[0.6,\"#e6f5d0\"],[0.7,\"#b8e186\"],[0.8,\"#7fbc41\"],[0.9,\"#4d9221\"],[1,\"#276419\"]]},\"xaxis\":{\"gridcolor\":\"white\",\"linecolor\":\"white\",\"ticks\":\"\",\"title\":{\"standoff\":15},\"zerolinecolor\":\"white\",\"automargin\":true,\"zerolinewidth\":2},\"yaxis\":{\"gridcolor\":\"white\",\"linecolor\":\"white\",\"ticks\":\"\",\"title\":{\"standoff\":15},\"zerolinecolor\":\"white\",\"automargin\":true,\"zerolinewidth\":2},\"scene\":{\"xaxis\":{\"backgroundcolor\":\"#E5ECF6\",\"gridcolor\":\"white\",\"linecolor\":\"white\",\"showbackground\":true,\"ticks\":\"\",\"zerolinecolor\":\"white\",\"gridwidth\":2},\"yaxis\":{\"backgroundcolor\":\"#E5ECF6\",\"gridcolor\":\"white\",\"linecolor\":\"white\",\"showbackground\":true,\"ticks\":\"\",\"zerolinecolor\":\"white\",\"gridwidth\":2},\"zaxis\":{\"backgroundcolor\":\"#E5ECF6\",\"gridcolor\":\"white\",\"linecolor\":\"white\",\"showbackground\":true,\"ticks\":\"\",\"zerolinecolor\":\"white\",\"gridwidth\":2}},\"shapedefaults\":{\"line\":{\"color\":\"#2a3f5f\"}},\"annotationdefaults\":{\"arrowcolor\":\"#2a3f5f\",\"arrowhead\":0,\"arrowwidth\":1},\"geo\":{\"bgcolor\":\"white\",\"landcolor\":\"#E5ECF6\",\"subunitcolor\":\"white\",\"showland\":true,\"showlakes\":true,\"lakecolor\":\"white\"},\"title\":{\"x\":0.05},\"mapbox\":{\"style\":\"light\"}}},\"mapbox\":{\"domain\":{\"x\":[0.0,1.0],\"y\":[0.0,1.0]},\"center\":{\"lat\":19.263390599999997,\"lon\":79.2631264},\"zoom\":0.25,\"style\":\"carto-darkmatter\"},\"legend\":{\"tracegroupgap\":0},\"margin\":{\"t\":60},\"title\":{\"text\":\"Location of the Restaurants\",\"x\":0.5},\"height\":500,\"width\":800},                        {\"responsive\": true}                    ).then(function(){\n",
       "                            \n",
       "var gd = document.getElementById('6d9fcff0-7fa4-4af6-9360-796318391842');\n",
       "var x = new MutationObserver(function (mutations, observer) {{\n",
       "        var display = window.getComputedStyle(gd).display;\n",
       "        if (!display || display === 'none') {{\n",
       "            console.log([gd, 'removed!']);\n",
       "            Plotly.purge(gd);\n",
       "            observer.disconnect();\n",
       "        }}\n",
       "}});\n",
       "\n",
       "// Listen for the removal of the full notebook cells\n",
       "var notebookContainer = gd.closest('#notebook-container');\n",
       "if (notebookContainer) {{\n",
       "    x.observe(notebookContainer, {childList: true});\n",
       "}}\n",
       "\n",
       "// Listen for the clearing of the current output cell\n",
       "var outputEl = gd.closest('.output');\n",
       "if (outputEl) {{\n",
       "    x.observe(outputEl, {childList: true});\n",
       "}}\n",
       "\n",
       "                        })                };                });            </script>        </div>"
      ]
     },
     "metadata": {},
     "output_type": "display_data"
    }
   ],
   "source": [
    "# Create a scatter map plot using Plotly Express\n",
    "fig = px.scatter_mapbox(data, lat='Latitude', lon='Longitude', zoom=0.25)\n",
    "\n",
    "# Update layout settings for the map\n",
    "fig.update_layout(mapbox_style='carto-darkmatter', height=500, width=800,\n",
    "                  title='Location of the Restaurants', title_x=0.5)\n",
    "\n",
    "# Display the map\n",
    "fig.show()"
   ]
  },
  {
   "cell_type": "code",
   "execution_count": 136,
   "id": "a2811115-13ad-49aa-bc94-7fb6f7d9fad0",
   "metadata": {},
   "outputs": [
    {
     "name": "stdout",
     "output_type": "stream",
     "text": [
      "Cluster Heatmap of the Restaurant locations \n",
      "\n",
      "\n"
     ]
    },
    {
     "data": {
      "text/html": [
       "<div style=\"width:100%;\"><div style=\"position:relative;width:100%;height:0;padding-bottom:60%;\"><span style=\"color:#565656\">Make this Notebook Trusted to load map: File -> Trust Notebook</span><iframe srcdoc=\"&lt;!DOCTYPE html&gt;\n",
       "&lt;html&gt;\n",
       "&lt;head&gt;\n",
       "    \n",
       "    &lt;meta http-equiv=&quot;content-type&quot; content=&quot;text/html; charset=UTF-8&quot; /&gt;\n",
       "    \n",
       "        &lt;script&gt;\n",
       "            L_NO_TOUCH = false;\n",
       "            L_DISABLE_3D = false;\n",
       "        &lt;/script&gt;\n",
       "    \n",
       "    &lt;style&gt;html, body {width: 100%;height: 100%;margin: 0;padding: 0;}&lt;/style&gt;\n",
       "    &lt;style&gt;#map {position:absolute;top:0;bottom:0;right:0;left:0;}&lt;/style&gt;\n",
       "    &lt;script src=&quot;https://cdn.jsdelivr.net/npm/leaflet@1.9.3/dist/leaflet.js&quot;&gt;&lt;/script&gt;\n",
       "    &lt;script src=&quot;https://code.jquery.com/jquery-3.7.1.min.js&quot;&gt;&lt;/script&gt;\n",
       "    &lt;script src=&quot;https://cdn.jsdelivr.net/npm/bootstrap@5.2.2/dist/js/bootstrap.bundle.min.js&quot;&gt;&lt;/script&gt;\n",
       "    &lt;script src=&quot;https://cdnjs.cloudflare.com/ajax/libs/Leaflet.awesome-markers/2.0.2/leaflet.awesome-markers.js&quot;&gt;&lt;/script&gt;\n",
       "    &lt;link rel=&quot;stylesheet&quot; href=&quot;https://cdn.jsdelivr.net/npm/leaflet@1.9.3/dist/leaflet.css&quot;/&gt;\n",
       "    &lt;link rel=&quot;stylesheet&quot; href=&quot;https://cdn.jsdelivr.net/npm/bootstrap@5.2.2/dist/css/bootstrap.min.css&quot;/&gt;\n",
       "    &lt;link rel=&quot;stylesheet&quot; href=&quot;https://netdna.bootstrapcdn.com/bootstrap/3.0.0/css/bootstrap-glyphicons.css&quot;/&gt;\n",
       "    &lt;link rel=&quot;stylesheet&quot; href=&quot;https://cdn.jsdelivr.net/npm/@fortawesome/fontawesome-free@6.2.0/css/all.min.css&quot;/&gt;\n",
       "    &lt;link rel=&quot;stylesheet&quot; href=&quot;https://cdnjs.cloudflare.com/ajax/libs/Leaflet.awesome-markers/2.0.2/leaflet.awesome-markers.css&quot;/&gt;\n",
       "    &lt;link rel=&quot;stylesheet&quot; href=&quot;https://cdn.jsdelivr.net/gh/python-visualization/folium/folium/templates/leaflet.awesome.rotate.min.css&quot;/&gt;\n",
       "    \n",
       "            &lt;meta name=&quot;viewport&quot; content=&quot;width=device-width,\n",
       "                initial-scale=1.0, maximum-scale=1.0, user-scalable=no&quot; /&gt;\n",
       "            &lt;style&gt;\n",
       "                #map_73649879274d22be897c9f06856ff97b {\n",
       "                    position: relative;\n",
       "                    width: 80.0%;\n",
       "                    height: 75.0%;\n",
       "                    left: 0.0%;\n",
       "                    top: 0.0%;\n",
       "                }\n",
       "                .leaflet-container { font-size: 1rem; }\n",
       "            &lt;/style&gt;\n",
       "        \n",
       "    &lt;script src=&quot;https://cdn.jsdelivr.net/gh/python-visualization/folium@main/folium/templates/leaflet_heat.min.js&quot;&gt;&lt;/script&gt;\n",
       "&lt;/head&gt;\n",
       "&lt;body&gt;\n",
       "    \n",
       "    \n",
       "            &lt;div class=&quot;folium-map&quot; id=&quot;map_73649879274d22be897c9f06856ff97b&quot; &gt;&lt;/div&gt;\n",
       "        \n",
       "&lt;/body&gt;\n",
       "&lt;script&gt;\n",
       "    \n",
       "    \n",
       "            var map_73649879274d22be897c9f06856ff97b = L.map(\n",
       "                &quot;map_73649879274d22be897c9f06856ff97b&quot;,\n",
       "                {\n",
       "                    center: [19.263390599999997, 79.2631264],\n",
       "                    crs: L.CRS.EPSG3857,\n",
       "                    zoom: 2,\n",
       "                    zoomControl: true,\n",
       "                    preferCanvas: false,\n",
       "                }\n",
       "            );\n",
       "\n",
       "            \n",
       "\n",
       "        \n",
       "    \n",
       "            var tile_layer_f50132fff2ae1231724cf74e372cd5dc = L.tileLayer(\n",
       "                &quot;https://tile.openstreetmap.org/{z}/{x}/{y}.png&quot;,\n",
       "                {&quot;attribution&quot;: &quot;\\u0026copy; \\u003ca href=\\&quot;https://www.openstreetmap.org/copyright\\&quot;\\u003eOpenStreetMap\\u003c/a\\u003e contributors&quot;, &quot;detectRetina&quot;: false, &quot;maxNativeZoom&quot;: 19, &quot;maxZoom&quot;: 19, &quot;minZoom&quot;: 0, &quot;noWrap&quot;: false, &quot;opacity&quot;: 1, &quot;subdomains&quot;: &quot;abc&quot;, &quot;tms&quot;: false}\n",
       "            );\n",
       "        \n",
       "    \n",
       "            tile_layer_f50132fff2ae1231724cf74e372cd5dc.addTo(map_73649879274d22be897c9f06856ff97b);\n",
       "        \n",
       "    \n",
       "            var heat_map_fda9c271799fd88674d2b08d07b36cbc = L.heatLayer(\n",
       "                [[19.07609, 72.877426], [28.613939, 77.20903], [13.08268, 80.270718], [22.572645, 88.363892], [12.971599, 77.594566]],\n",
       "                {&quot;blur&quot;: 15, &quot;maxZoom&quot;: 18, &quot;minOpacity&quot;: 0.5, &quot;radius&quot;: 15}\n",
       "            );\n",
       "        \n",
       "    \n",
       "            heat_map_fda9c271799fd88674d2b08d07b36cbc.addTo(map_73649879274d22be897c9f06856ff97b);\n",
       "        \n",
       "&lt;/script&gt;\n",
       "&lt;/html&gt;\" style=\"position:absolute;width:100%;height:100%;left:0;top:0;border:none !important;\" allowfullscreen webkitallowfullscreen mozallowfullscreen></iframe></div></div>"
      ],
      "text/plain": [
       "<folium.folium.Map at 0x28b9263b850>"
      ]
     },
     "execution_count": 136,
     "metadata": {},
     "output_type": "execute_result"
    }
   ],
   "source": [
    "print(\"Cluster Heatmap of the Restaurant locations \\n\\n\")\n",
    "\n",
    "# Create a Folium map centered on the mean latitude and longitude of restaurant locations\n",
    "map = folium.Map(location=[data['Latitude'].mean(), data['Longitude'].mean()], zoom_start=2, height='75%', width='80%')\n",
    "\n",
    "# Prepare heatmap data using latitude and longitude from the 'data' DataFrame\n",
    "heat_data = [[row['Latitude'], row['Longitude']] for index, row in data.iterrows()]\n",
    "\n",
    "# Add heatmap layer to the Folium map\n",
    "HeatMap(heat_data, radius=15).add_to(map)\n",
    "\n",
    "# Display the Folium map showing the cluster heatmap of restaurant locations\n",
    "map"
   ]
  },
  {
   "cell_type": "markdown",
   "id": "a5403a82-6e58-4ff1-8736-7b3a446c504e",
   "metadata": {},
   "source": [
    "# Level 2 Task 4"
   ]
  },
  {
   "cell_type": "markdown",
   "id": "0e83c6df-9081-49b9-90d6-62bb6bba4ba4",
   "metadata": {},
   "source": [
    "## Task: Restaurant Chains"
   ]
  },
  {
   "cell_type": "markdown",
   "id": "64f33b5c-dc18-4f81-8865-e491809f4472",
   "metadata": {},
   "source": [
    "## Identify if there are any restaurant chains present in the dataset."
   ]
  },
  {
   "cell_type": "markdown",
   "id": "9fcd36ad-341b-40d2-aaaa-d1ec0ac5c5e2",
   "metadata": {},
   "source": [
    "## Analyze the ratings and popularity of different restaurant chains."
   ]
  },
  {
   "cell_type": "code",
   "execution_count": 18,
   "id": "9b017766-84ec-4092-be81-8a54ffb41870",
   "metadata": {},
   "outputs": [],
   "source": [
    "import matplotlib.pyplot as plt\n",
    "import pandas as pd\n",
    "import numpy as np\n",
    "import seaborn as sns"
   ]
  },
  {
   "cell_type": "code",
   "execution_count": 19,
   "id": "d1ec3cd2-ab93-4052-a9ca-77607799c67a",
   "metadata": {},
   "outputs": [],
   "source": [
    "df = pd.read_csv('Dataset .csv')"
   ]
  },
  {
   "cell_type": "code",
   "execution_count": 20,
   "id": "689b8acb-8183-4c0b-9398-aefbd457cb60",
   "metadata": {},
   "outputs": [
    {
     "data": {
      "text/html": [
       "<div>\n",
       "<style scoped>\n",
       "    .dataframe tbody tr th:only-of-type {\n",
       "        vertical-align: middle;\n",
       "    }\n",
       "\n",
       "    .dataframe tbody tr th {\n",
       "        vertical-align: top;\n",
       "    }\n",
       "\n",
       "    .dataframe thead th {\n",
       "        text-align: right;\n",
       "    }\n",
       "</style>\n",
       "<table border=\"1\" class=\"dataframe\">\n",
       "  <thead>\n",
       "    <tr style=\"text-align: right;\">\n",
       "      <th></th>\n",
       "      <th>Restaurant ID</th>\n",
       "      <th>Restaurant Name</th>\n",
       "      <th>Country Code</th>\n",
       "      <th>City</th>\n",
       "      <th>Address</th>\n",
       "      <th>Locality</th>\n",
       "      <th>Locality Verbose</th>\n",
       "      <th>Longitude</th>\n",
       "      <th>Latitude</th>\n",
       "      <th>Cuisines</th>\n",
       "      <th>...</th>\n",
       "      <th>Currency</th>\n",
       "      <th>Has Table booking</th>\n",
       "      <th>Has Online delivery</th>\n",
       "      <th>Is delivering now</th>\n",
       "      <th>Switch to order menu</th>\n",
       "      <th>Price range</th>\n",
       "      <th>Aggregate rating</th>\n",
       "      <th>Rating color</th>\n",
       "      <th>Rating text</th>\n",
       "      <th>Votes</th>\n",
       "    </tr>\n",
       "  </thead>\n",
       "  <tbody>\n",
       "    <tr>\n",
       "      <th>0</th>\n",
       "      <td>6317637</td>\n",
       "      <td>Le Petit Souffle</td>\n",
       "      <td>162</td>\n",
       "      <td>Makati City</td>\n",
       "      <td>Third Floor, Century City Mall, Kalayaan Avenu...</td>\n",
       "      <td>Century City Mall, Poblacion, Makati City</td>\n",
       "      <td>Century City Mall, Poblacion, Makati City, Mak...</td>\n",
       "      <td>121.027535</td>\n",
       "      <td>14.565443</td>\n",
       "      <td>French, Japanese, Desserts</td>\n",
       "      <td>...</td>\n",
       "      <td>Botswana Pula(P)</td>\n",
       "      <td>Yes</td>\n",
       "      <td>No</td>\n",
       "      <td>No</td>\n",
       "      <td>No</td>\n",
       "      <td>3</td>\n",
       "      <td>4.8</td>\n",
       "      <td>Dark Green</td>\n",
       "      <td>Excellent</td>\n",
       "      <td>314</td>\n",
       "    </tr>\n",
       "    <tr>\n",
       "      <th>1</th>\n",
       "      <td>6304287</td>\n",
       "      <td>Izakaya Kikufuji</td>\n",
       "      <td>162</td>\n",
       "      <td>Makati City</td>\n",
       "      <td>Little Tokyo, 2277 Chino Roces Avenue, Legaspi...</td>\n",
       "      <td>Little Tokyo, Legaspi Village, Makati City</td>\n",
       "      <td>Little Tokyo, Legaspi Village, Makati City, Ma...</td>\n",
       "      <td>121.014101</td>\n",
       "      <td>14.553708</td>\n",
       "      <td>Japanese</td>\n",
       "      <td>...</td>\n",
       "      <td>Botswana Pula(P)</td>\n",
       "      <td>Yes</td>\n",
       "      <td>No</td>\n",
       "      <td>No</td>\n",
       "      <td>No</td>\n",
       "      <td>3</td>\n",
       "      <td>4.5</td>\n",
       "      <td>Dark Green</td>\n",
       "      <td>Excellent</td>\n",
       "      <td>591</td>\n",
       "    </tr>\n",
       "    <tr>\n",
       "      <th>2</th>\n",
       "      <td>6300002</td>\n",
       "      <td>Heat - Edsa Shangri-La</td>\n",
       "      <td>162</td>\n",
       "      <td>Mandaluyong City</td>\n",
       "      <td>Edsa Shangri-La, 1 Garden Way, Ortigas, Mandal...</td>\n",
       "      <td>Edsa Shangri-La, Ortigas, Mandaluyong City</td>\n",
       "      <td>Edsa Shangri-La, Ortigas, Mandaluyong City, Ma...</td>\n",
       "      <td>121.056831</td>\n",
       "      <td>14.581404</td>\n",
       "      <td>Seafood, Asian, Filipino, Indian</td>\n",
       "      <td>...</td>\n",
       "      <td>Botswana Pula(P)</td>\n",
       "      <td>Yes</td>\n",
       "      <td>No</td>\n",
       "      <td>No</td>\n",
       "      <td>No</td>\n",
       "      <td>4</td>\n",
       "      <td>4.4</td>\n",
       "      <td>Green</td>\n",
       "      <td>Very Good</td>\n",
       "      <td>270</td>\n",
       "    </tr>\n",
       "    <tr>\n",
       "      <th>3</th>\n",
       "      <td>6318506</td>\n",
       "      <td>Ooma</td>\n",
       "      <td>162</td>\n",
       "      <td>Mandaluyong City</td>\n",
       "      <td>Third Floor, Mega Fashion Hall, SM Megamall, O...</td>\n",
       "      <td>SM Megamall, Ortigas, Mandaluyong City</td>\n",
       "      <td>SM Megamall, Ortigas, Mandaluyong City, Mandal...</td>\n",
       "      <td>121.056475</td>\n",
       "      <td>14.585318</td>\n",
       "      <td>Japanese, Sushi</td>\n",
       "      <td>...</td>\n",
       "      <td>Botswana Pula(P)</td>\n",
       "      <td>No</td>\n",
       "      <td>No</td>\n",
       "      <td>No</td>\n",
       "      <td>No</td>\n",
       "      <td>4</td>\n",
       "      <td>4.9</td>\n",
       "      <td>Dark Green</td>\n",
       "      <td>Excellent</td>\n",
       "      <td>365</td>\n",
       "    </tr>\n",
       "    <tr>\n",
       "      <th>4</th>\n",
       "      <td>6314302</td>\n",
       "      <td>Sambo Kojin</td>\n",
       "      <td>162</td>\n",
       "      <td>Mandaluyong City</td>\n",
       "      <td>Third Floor, Mega Atrium, SM Megamall, Ortigas...</td>\n",
       "      <td>SM Megamall, Ortigas, Mandaluyong City</td>\n",
       "      <td>SM Megamall, Ortigas, Mandaluyong City, Mandal...</td>\n",
       "      <td>121.057508</td>\n",
       "      <td>14.584450</td>\n",
       "      <td>Japanese, Korean</td>\n",
       "      <td>...</td>\n",
       "      <td>Botswana Pula(P)</td>\n",
       "      <td>Yes</td>\n",
       "      <td>No</td>\n",
       "      <td>No</td>\n",
       "      <td>No</td>\n",
       "      <td>4</td>\n",
       "      <td>4.8</td>\n",
       "      <td>Dark Green</td>\n",
       "      <td>Excellent</td>\n",
       "      <td>229</td>\n",
       "    </tr>\n",
       "  </tbody>\n",
       "</table>\n",
       "<p>5 rows × 21 columns</p>\n",
       "</div>"
      ],
      "text/plain": [
       "   Restaurant ID         Restaurant Name  Country Code              City  \\\n",
       "0        6317637        Le Petit Souffle           162       Makati City   \n",
       "1        6304287        Izakaya Kikufuji           162       Makati City   \n",
       "2        6300002  Heat - Edsa Shangri-La           162  Mandaluyong City   \n",
       "3        6318506                    Ooma           162  Mandaluyong City   \n",
       "4        6314302             Sambo Kojin           162  Mandaluyong City   \n",
       "\n",
       "                                             Address  \\\n",
       "0  Third Floor, Century City Mall, Kalayaan Avenu...   \n",
       "1  Little Tokyo, 2277 Chino Roces Avenue, Legaspi...   \n",
       "2  Edsa Shangri-La, 1 Garden Way, Ortigas, Mandal...   \n",
       "3  Third Floor, Mega Fashion Hall, SM Megamall, O...   \n",
       "4  Third Floor, Mega Atrium, SM Megamall, Ortigas...   \n",
       "\n",
       "                                     Locality  \\\n",
       "0   Century City Mall, Poblacion, Makati City   \n",
       "1  Little Tokyo, Legaspi Village, Makati City   \n",
       "2  Edsa Shangri-La, Ortigas, Mandaluyong City   \n",
       "3      SM Megamall, Ortigas, Mandaluyong City   \n",
       "4      SM Megamall, Ortigas, Mandaluyong City   \n",
       "\n",
       "                                    Locality Verbose   Longitude   Latitude  \\\n",
       "0  Century City Mall, Poblacion, Makati City, Mak...  121.027535  14.565443   \n",
       "1  Little Tokyo, Legaspi Village, Makati City, Ma...  121.014101  14.553708   \n",
       "2  Edsa Shangri-La, Ortigas, Mandaluyong City, Ma...  121.056831  14.581404   \n",
       "3  SM Megamall, Ortigas, Mandaluyong City, Mandal...  121.056475  14.585318   \n",
       "4  SM Megamall, Ortigas, Mandaluyong City, Mandal...  121.057508  14.584450   \n",
       "\n",
       "                           Cuisines  ...          Currency Has Table booking  \\\n",
       "0        French, Japanese, Desserts  ...  Botswana Pula(P)               Yes   \n",
       "1                          Japanese  ...  Botswana Pula(P)               Yes   \n",
       "2  Seafood, Asian, Filipino, Indian  ...  Botswana Pula(P)               Yes   \n",
       "3                   Japanese, Sushi  ...  Botswana Pula(P)                No   \n",
       "4                  Japanese, Korean  ...  Botswana Pula(P)               Yes   \n",
       "\n",
       "  Has Online delivery Is delivering now Switch to order menu Price range  \\\n",
       "0                  No                No                   No           3   \n",
       "1                  No                No                   No           3   \n",
       "2                  No                No                   No           4   \n",
       "3                  No                No                   No           4   \n",
       "4                  No                No                   No           4   \n",
       "\n",
       "   Aggregate rating  Rating color Rating text Votes  \n",
       "0               4.8    Dark Green   Excellent   314  \n",
       "1               4.5    Dark Green   Excellent   591  \n",
       "2               4.4         Green   Very Good   270  \n",
       "3               4.9    Dark Green   Excellent   365  \n",
       "4               4.8    Dark Green   Excellent   229  \n",
       "\n",
       "[5 rows x 21 columns]"
      ]
     },
     "execution_count": 20,
     "metadata": {},
     "output_type": "execute_result"
    }
   ],
   "source": [
    "df.head()"
   ]
  },
  {
   "cell_type": "code",
   "execution_count": 21,
   "id": "b261b7e8-a000-40c8-8f56-7bb65fe38fd1",
   "metadata": {},
   "outputs": [
    {
     "name": "stdout",
     "output_type": "stream",
     "text": [
      "<class 'pandas.core.frame.DataFrame'>\n",
      "RangeIndex: 9551 entries, 0 to 9550\n",
      "Data columns (total 21 columns):\n",
      " #   Column                Non-Null Count  Dtype  \n",
      "---  ------                --------------  -----  \n",
      " 0   Restaurant ID         9551 non-null   int64  \n",
      " 1   Restaurant Name       9551 non-null   object \n",
      " 2   Country Code          9551 non-null   int64  \n",
      " 3   City                  9551 non-null   object \n",
      " 4   Address               9551 non-null   object \n",
      " 5   Locality              9551 non-null   object \n",
      " 6   Locality Verbose      9551 non-null   object \n",
      " 7   Longitude             9551 non-null   float64\n",
      " 8   Latitude              9551 non-null   float64\n",
      " 9   Cuisines              9542 non-null   object \n",
      " 10  Average Cost for two  9551 non-null   int64  \n",
      " 11  Currency              9551 non-null   object \n",
      " 12  Has Table booking     9551 non-null   object \n",
      " 13  Has Online delivery   9551 non-null   object \n",
      " 14  Is delivering now     9551 non-null   object \n",
      " 15  Switch to order menu  9551 non-null   object \n",
      " 16  Price range           9551 non-null   int64  \n",
      " 17  Aggregate rating      9551 non-null   float64\n",
      " 18  Rating color          9551 non-null   object \n",
      " 19  Rating text           9551 non-null   object \n",
      " 20  Votes                 9551 non-null   int64  \n",
      "dtypes: float64(3), int64(5), object(13)\n",
      "memory usage: 1.5+ MB\n"
     ]
    }
   ],
   "source": [
    "df.info()"
   ]
  },
  {
   "cell_type": "code",
   "execution_count": 21,
   "id": "67640682-e6ab-4286-b303-d5de2ad30606",
   "metadata": {},
   "outputs": [
    {
     "name": "stdout",
     "output_type": "stream",
     "text": [
      "Index(['Restaurant ID', 'Restaurant Name', 'Country Code', 'City', 'Address',\n",
      "       'Locality', 'Locality Verbose', 'Longitude', 'Latitude', 'Cuisines',\n",
      "       'Average Cost for two', 'Currency', 'Has Table booking',\n",
      "       'Has Online delivery', 'Is delivering now', 'Switch to order menu',\n",
      "       'Price range', 'Aggregate rating', 'Rating color', 'Rating text',\n",
      "       'Votes'],\n",
      "      dtype='object')\n"
     ]
    }
   ],
   "source": [
    "print(df.columns)"
   ]
  },
  {
   "cell_type": "markdown",
   "id": "56fe66d6-d328-480d-b5db-20c180786108",
   "metadata": {},
   "source": [
    "## Identify if there are any restaurant chains present in the dataset."
   ]
  },
  {
   "cell_type": "code",
   "execution_count": 26,
   "id": "c6ebf71f-d5b8-4c90-8c3e-84a067afad54",
   "metadata": {},
   "outputs": [
    {
     "name": "stdout",
     "output_type": "stream",
     "text": [
      "Identified Restaurant Chains:\n",
      "['Cafe Coffee Day', \"Domino's Pizza\", 'Subway', 'Green Chick Chop', \"McDonald's\", 'Keventers', 'Pizza Hut', 'Giani', 'Baskin Robbins', 'Barbeque Nation', \"Giani's\", 'Barista', \"Dunkin' Donuts\", 'Costa Coffee', 'Pind Balluchi', 'Wah Ji Wah', 'Twenty Four Seven', 'Pizza Hut Delivery', 'Sagar Ratna', 'Republic of Chicken', 'KFC', 'Starbucks', 'Chaayos', 'Burger King', \"Haldiram's\", 'Shree Rathnam', 'Frontier', 'Moti Mahal Delux', 'Bikanervala', 'Aggarwal Sweets', 'Behrouz Biryani', \"Karim's\", 'Bikaner Sweets', 'Chicago Pizza', 'Apni Rasoi', '34, Chowringhee Lane', 'Wow! Momo', 'Madras Cafe', 'Burger Point', 'Gopala', 'Shama Chicken Corner', \"Berco's\", \"Nirula's Ice Cream\", 'Sardar A Pure Meat Shop', 'Yo! China', 'Cocoberry', 'Punjabi Tadka', 'Angels in my Kitchen', 'Faasos', 'Ovenstory Pizza', 'Chowringhee', 'Punjabi Chaap Corner', 'Kebab Xpress', 'Nazeer Foods', 'RollsKing', 'Tpot', 'Mocha', 'Dolce Gelato', \"Tibb's Frankie\", 'The Yellow Chilli', 'Slice of Italy', 'BTW', 'Khan Chacha', \"Chawla's�_\", 'China Town', 'Chinese Hut', 'Sanjha Chulha', 'Moti Mahal Delux Tandoori Trail', 'Mr. Sub', 'Al Bake', 'Bikaner Sweets & Restaurant', \"TGI Friday's\", 'Kings Kulfi', 'Pudding & Pie', 'Cafe Coffee Day - The Lounge', 'Southy', 'The Diet Kitchen', 'Biryani Blues', 'Goli Vada Pav No. 1', 'Punjabi Rasoi', 'The Beer Cafe', 'Wrapss', 'Mainland China', 'Farzi Cafe', 'Red Chilli', \"Nathu's Sweets\", 'Instapizza', \"Chili's\", \"Nando's\", 'Aggarwal Sweet India', 'Texas Roadhouse', 'Cake Point', 'Pita Pit', 'Chinese Corner', 'The Midnight Heroes', 'Kake Da Hotel', \"L'Opera\", 'Nukkadwala', \"Flirty Momo's\", 'Viva Hyderabad', 'Swagath', 'Sandoz', 'Punjab Grill', 'Kettle & Kegs', 'The Chinese Hut', 'Captain Grub', 'Mad Over Donuts', 'Aggarwal Sweet Corner', 'SGF - Spice Grill Flame', 'Shree Bikaner Misthan Bhandar', 'Da Pizza Corner', 'Happy Hakka']\n"
     ]
    }
   ],
   "source": [
    "chain_threshold = 5\n",
    "# Count the occurrences of each restaurant name\n",
    "restaurant_counts = df['Restaurant Name'].value_counts()\n",
    "\n",
    "# Identify restaurant chains based on the threshold\n",
    "restaurant_chains = restaurant_counts[restaurant_counts >= chain_threshold].index.tolist()\n",
    "\n",
    "# Display the identified restaurant chains\n",
    "print(\"Identified Restaurant Chains:\")\n",
    "print(restaurant_chains)"
   ]
  },
  {
   "cell_type": "markdown",
   "id": "aa4b04ba-0d5f-4249-8f90-159a3cd7816c",
   "metadata": {},
   "source": [
    "## Analyze the ratings and popularity of different restaurant chains."
   ]
  },
  {
   "cell_type": "code",
   "execution_count": 23,
   "id": "c8384b86-926d-4695-9217-1e003fcf710a",
   "metadata": {},
   "outputs": [
    {
     "name": "stdout",
     "output_type": "stream",
     "text": [
      "\n",
      "Analysis of Ratings and Popularity of Restaurant Chains:\n",
      "                 Restaurant Name  Aggregate rating  Votes\n",
      "26                       Chili's          4.580000   8156\n",
      "38                    Farzi Cafe          4.366667  10098\n",
      "8                Barbeque Nation          4.353846  28142\n",
      "77                  Punjab Grill          4.340000   5424\n",
      "62                         Mocha          4.185714   3111\n",
      "..                           ...               ...    ...\n",
      "105                         Tpot          0.971429     43\n",
      "34                  Dolce Gelato          0.885714     18\n",
      "3                Aggarwal Sweets          0.792857     39\n",
      "14   Bikaner Sweets & Restaurant          0.516667     11\n",
      "53                 Kettle & Kegs          0.000000      5\n",
      "\n",
      "[112 rows x 3 columns]\n"
     ]
    }
   ],
   "source": [
    "chain_df = df[df['Restaurant Name'].isin(restaurant_chains)]\n",
    "chain_stats = chain_df.groupby('Restaurant Name').agg({\n",
    "    'Aggregate rating': 'mean',\n",
    "    'Votes': 'sum'\n",
    "}).reset_index()\n",
    "print(\"\\nAnalysis of Ratings and Popularity of Restaurant Chains:\")\n",
    "print(chain_stats.sort_values(by='Aggregate rating', ascending=False))\n"
   ]
  },
  {
   "cell_type": "markdown",
   "id": "af606cbe-45e6-447c-875c-b73af5f75ea1",
   "metadata": {},
   "source": [
    "#### Summary:"
   ]
  },
  {
   "cell_type": "markdown",
   "id": "499360f7-fa32-46bf-bf6e-58bf2b431cbd",
   "metadata": {},
   "source": [
    "This project analyzed restaurant data to uncover insights into rating distributions, common cuisine combinations, geographic patterns, and the presence of chains. We identified the most frequent rating ranges and average votes, explored popular cuisine pairings and their ratings, mapped restaurant locations to find clusters, and assessed the performance of chains versus independents. The findings offer a clear view of industry trends and consumer preferences."
   ]
  },
  {
   "cell_type": "code",
   "execution_count": null,
   "id": "ac10ddaf-071d-4453-be34-abb83436bd31",
   "metadata": {},
   "outputs": [],
   "source": []
  }
 ],
 "metadata": {
  "kernelspec": {
   "display_name": "Python 3 (ipykernel)",
   "language": "python",
   "name": "python3"
  },
  "language_info": {
   "codemirror_mode": {
    "name": "ipython",
    "version": 3
   },
   "file_extension": ".py",
   "mimetype": "text/x-python",
   "name": "python",
   "nbconvert_exporter": "python",
   "pygments_lexer": "ipython3",
   "version": "3.11.7"
  }
 },
 "nbformat": 4,
 "nbformat_minor": 5
}
